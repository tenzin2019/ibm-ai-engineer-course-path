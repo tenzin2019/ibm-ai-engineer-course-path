{
 "cells": [
  {
   "cell_type": "markdown",
   "id": "bb8b9a9b-fea7-4c87-a50a-2880785b78d9",
   "metadata": {},
   "source": [
    "<p style=\"text-align:center\">\n",
    "    <a href=\"https://skills.network\" target=\"_blank\">\n",
    "    <img src=\"https://cf-courses-data.s3.us.cloud-object-storage.appdomain.cloud/assets/logos/SN_web_lightmode.png\" width=\"200\" alt=\"Skills Network Logo\"  />\n",
    "    </a>\n",
    "</p>\n"
   ]
  },
  {
   "cell_type": "markdown",
   "id": "3420483c-ead8-4da1-b522-adf8dbb4de4c",
   "metadata": {},
   "source": [
    "# **Adapters in PyTorch**\n",
    "\n",
    "Estimated time needed: **45** minutes\n",
    "\n",
    "**_Note to advanced users_: If you are already familiar with classical fine-tuning and you only want to see the section that relates to adapters, skip forward to <a href=\"#Adapters\">Adapters</a> and run all of the cells above that section by going to _Run --> Run All Above Selected Cell_**\n",
    "\n",
    "You can fine-tune a neural network in several ways. Common strategies include adjusting only the final layer or fine-tuning all layers. However, these methods have their drawbacks: fine-tuning just the final layer often leads to less than optimal results, while fine-tuning all layers can be very time-consuming.\n",
    "\n",
    "To address these issues, researchers have developed various parameter efficient fine-tuning (PEFT) techniques. One such technique involves the use of adapters. Adapters enable modular training, where small, task-specific modules are trained within the model without changing the pre-existing pretrained parameters. This approach efficiently tailors the model to new tasks with a reduced risk of overfitting. However, adapters are not a cure-all solution. While they are less likely to overfit and are computationally efficient, they might not always reach the same level of accuracy as full model fine-tuning, particularly if the task necessitates substantial changes from the pretrained model's original capabilities.\n",
    "\n",
    "In this hands-on lab, you learn how to apply an adapter to a transformer-based neural network that has been trained on the AG News data set, with the aim of using this model on the IMDB data set. You also evaluate and compare the performance of this method with that of a fully fine-tuned model and a model where only the last layer is fine-tuned.\n",
    "\n"
   ]
  },
  {
   "cell_type": "markdown",
   "id": "1e665738-e0b0-4cb7-b167-30e5ce059520",
   "metadata": {},
   "source": [
    "# __Table of contents__\n",
    "\n",
    "<ol>\n",
    "    <li><a href=\"#Objectives\">Objectives</a></li>\n",
    "    <li>\n",
    "        <a href=\"#Setup\">Setup</a>\n",
    "        <ol>\n",
    "            <li><a href=\"#Install-required-libraries\">Install required libraries</a></li>\n",
    "            <li><a href=\"#Import-required-libraries\">Import required libraries</a></li>\n",
    "            <li><a href=\"#Define-helper-functions\">Defining helper functions</a></li>\n",
    "        </ol>\n",
    "    </li>\n",
    "    <li><a href=\"#Positional-encodings\">Positional encodings</a></li>\n",
    "    <li><a href=\"#Import-IMDB-dataset\">Import IMDB data set</a></li>\n",
    "    <ol>\n",
    "        <li><a href=\"#IMDB-dataset-overview\">IMDB data set overview</a></li>\n",
    "        <ol>\n",
    "            <li><a href=\"#Dataset-composition\">Data set composition</a></li>\n",
    "            <li><a href=\"#Applications\">Applications</a></li>\n",
    "            <li><a href=\"#Challenges\">Challenges</a></li>\n",
    "            <li><a href=\"#Dataset-splits\">Data set splits</a></li>\n",
    "            <li><a href=\"#Data-loader\">Data loader</a></li>\n",
    "            <li><a href=\"#Neural-network\">Neural network</a></li>\n",
    "        </ol>\n",
    "    </ol>\n",
    "    <li>\n",
    "        <a href=\"#Training\">Training</a>\n",
    "        <ol>\n",
    "            <li><a href=\"#Train-IMDB\">Train IMDB</a></li>\n",
    "            <li><a href=\"#Fine-tune-a-model-pretrained-on-the-AG-News-dataset\">Fine-tune a model pretrained on the AG News data set</a></li>\n",
    "            <li><a href=\"#Fine-tune-the-final-layer-only\">Fine-tune the final layer only</a></li>\n",
    "        </ol>\n",
    "    </li>\n",
    "    <li>\n",
    "        <a href=\"#Adapters\">Adapters</a>\n",
    "        <ol>\n",
    "            <li><a href=\"#Benefits-of-using-adapters-in-neural-networks\">Benefits of using adapters in neural networks</a></li>\n",
    "        </ol>\n",
    "    </li>\n",
    "    <li>\n",
    "        <a href=\"#Exercise:-Adapt-linear-layers-in-a-different-network\">Exercise: Adapt linear layers in a different network</a>\n",
    "    </li>\n",
    "</ol>\n"
   ]
  },
  {
   "cell_type": "markdown",
   "id": "43e80dde-29eb-4283-92a1-f0db82810540",
   "metadata": {},
   "source": [
    "---\n"
   ]
  },
  {
   "cell_type": "markdown",
   "id": "ecf9cd40-e70e-44d3-86b2-19f85da797f6",
   "metadata": {},
   "source": [
    "# Objectives\n",
    "\n",
    "After completing this lab, you are able to:\n",
    "\n",
    "- Define and pretrain a transformer-based neural network using PyTorch for a classification task [Optional]\n",
    "- Fully fine-tune the pretrained model for a different classification task [Optional]\n",
    "- Compare results by fine-tuning only the last layer of the pretrained model [Optional]\n",
    "- Understand how adapters work\n",
    "- Apply adapters to linear layers in a neural network\n",
    "- Train a neural network in a parameter efficient way by training just the adapted layers\n",
    "\n"
   ]
  },
  {
   "cell_type": "markdown",
   "id": "8dbe610a-bb57-44fc-b832-a57bff596186",
   "metadata": {},
   "source": [
    "---\n"
   ]
  },
  {
   "cell_type": "markdown",
   "id": "9dc7bd8d-5495-4ab1-b099-73ee51c0a187",
   "metadata": {},
   "source": [
    "# Setup\n"
   ]
  },
  {
   "cell_type": "markdown",
   "id": "3e79bb8e-aaf8-4101-a533-70db2bbdd657",
   "metadata": {},
   "source": [
    "### Install required libraries\n"
   ]
  },
  {
   "cell_type": "markdown",
   "id": "fcee6190-4c3c-402f-a14a-7120bce59e21",
   "metadata": {},
   "source": [
    "For this lab, you use the following libraries, which are __not__ preinstalled in the Skills Network Labs environment. __You must run the code in the following cell__ to install them.\n"
   ]
  },
  {
   "cell_type": "code",
   "execution_count": 1,
   "id": "b3347860-614a-4ff5-a68d-676285fca155",
   "metadata": {},
   "outputs": [
    {
     "name": "stdout",
     "output_type": "stream",
     "text": [
      "Requirement already satisfied: torch==2.2.2 in /Users/tenzinjamyang/Desktop/GitHub/ibm-ai-engineer-course-path/ibm-ai-venv/lib/python3.11/site-packages (2.2.2)\n",
      "Requirement already satisfied: filelock in /Users/tenzinjamyang/Desktop/GitHub/ibm-ai-engineer-course-path/ibm-ai-venv/lib/python3.11/site-packages (from torch==2.2.2) (3.18.0)\n",
      "Requirement already satisfied: typing-extensions>=4.8.0 in /Users/tenzinjamyang/Desktop/GitHub/ibm-ai-engineer-course-path/ibm-ai-venv/lib/python3.11/site-packages (from torch==2.2.2) (4.14.1)\n",
      "Requirement already satisfied: sympy in /Users/tenzinjamyang/Desktop/GitHub/ibm-ai-engineer-course-path/ibm-ai-venv/lib/python3.11/site-packages (from torch==2.2.2) (1.14.0)\n",
      "Requirement already satisfied: networkx in /Users/tenzinjamyang/Desktop/GitHub/ibm-ai-engineer-course-path/ibm-ai-venv/lib/python3.11/site-packages (from torch==2.2.2) (3.5)\n",
      "Requirement already satisfied: jinja2 in /Users/tenzinjamyang/Desktop/GitHub/ibm-ai-engineer-course-path/ibm-ai-venv/lib/python3.11/site-packages (from torch==2.2.2) (3.1.6)\n",
      "Requirement already satisfied: fsspec in /Users/tenzinjamyang/Desktop/GitHub/ibm-ai-engineer-course-path/ibm-ai-venv/lib/python3.11/site-packages (from torch==2.2.2) (2025.3.0)\n",
      "Requirement already satisfied: MarkupSafe>=2.0 in /Users/tenzinjamyang/Desktop/GitHub/ibm-ai-engineer-course-path/ibm-ai-venv/lib/python3.11/site-packages (from jinja2->torch==2.2.2) (3.0.2)\n",
      "Requirement already satisfied: mpmath<1.4,>=1.1.0 in /Users/tenzinjamyang/Desktop/GitHub/ibm-ai-engineer-course-path/ibm-ai-venv/lib/python3.11/site-packages (from sympy->torch==2.2.2) (1.3.0)\n",
      "Requirement already satisfied: torchtext==0.17.2 in /Users/tenzinjamyang/Desktop/GitHub/ibm-ai-engineer-course-path/ibm-ai-venv/lib/python3.11/site-packages (0.17.2)\n",
      "Requirement already satisfied: tqdm in /Users/tenzinjamyang/Desktop/GitHub/ibm-ai-engineer-course-path/ibm-ai-venv/lib/python3.11/site-packages (from torchtext==0.17.2) (4.67.1)\n",
      "Requirement already satisfied: requests in /Users/tenzinjamyang/Desktop/GitHub/ibm-ai-engineer-course-path/ibm-ai-venv/lib/python3.11/site-packages (from torchtext==0.17.2) (2.32.4)\n",
      "Requirement already satisfied: torch==2.2.2 in /Users/tenzinjamyang/Desktop/GitHub/ibm-ai-engineer-course-path/ibm-ai-venv/lib/python3.11/site-packages (from torchtext==0.17.2) (2.2.2)\n",
      "Requirement already satisfied: numpy in /Users/tenzinjamyang/Desktop/GitHub/ibm-ai-engineer-course-path/ibm-ai-venv/lib/python3.11/site-packages (from torchtext==0.17.2) (1.26.0)\n",
      "Requirement already satisfied: filelock in /Users/tenzinjamyang/Desktop/GitHub/ibm-ai-engineer-course-path/ibm-ai-venv/lib/python3.11/site-packages (from torch==2.2.2->torchtext==0.17.2) (3.18.0)\n",
      "Requirement already satisfied: typing-extensions>=4.8.0 in /Users/tenzinjamyang/Desktop/GitHub/ibm-ai-engineer-course-path/ibm-ai-venv/lib/python3.11/site-packages (from torch==2.2.2->torchtext==0.17.2) (4.14.1)\n",
      "Requirement already satisfied: sympy in /Users/tenzinjamyang/Desktop/GitHub/ibm-ai-engineer-course-path/ibm-ai-venv/lib/python3.11/site-packages (from torch==2.2.2->torchtext==0.17.2) (1.14.0)\n",
      "Requirement already satisfied: networkx in /Users/tenzinjamyang/Desktop/GitHub/ibm-ai-engineer-course-path/ibm-ai-venv/lib/python3.11/site-packages (from torch==2.2.2->torchtext==0.17.2) (3.5)\n",
      "Requirement already satisfied: jinja2 in /Users/tenzinjamyang/Desktop/GitHub/ibm-ai-engineer-course-path/ibm-ai-venv/lib/python3.11/site-packages (from torch==2.2.2->torchtext==0.17.2) (3.1.6)\n",
      "Requirement already satisfied: fsspec in /Users/tenzinjamyang/Desktop/GitHub/ibm-ai-engineer-course-path/ibm-ai-venv/lib/python3.11/site-packages (from torch==2.2.2->torchtext==0.17.2) (2025.3.0)\n",
      "Requirement already satisfied: MarkupSafe>=2.0 in /Users/tenzinjamyang/Desktop/GitHub/ibm-ai-engineer-course-path/ibm-ai-venv/lib/python3.11/site-packages (from jinja2->torch==2.2.2->torchtext==0.17.2) (3.0.2)\n",
      "Requirement already satisfied: charset_normalizer<4,>=2 in /Users/tenzinjamyang/Desktop/GitHub/ibm-ai-engineer-course-path/ibm-ai-venv/lib/python3.11/site-packages (from requests->torchtext==0.17.2) (3.4.2)\n",
      "Requirement already satisfied: idna<4,>=2.5 in /Users/tenzinjamyang/Desktop/GitHub/ibm-ai-engineer-course-path/ibm-ai-venv/lib/python3.11/site-packages (from requests->torchtext==0.17.2) (3.10)\n",
      "Requirement already satisfied: urllib3<3,>=1.21.1 in /Users/tenzinjamyang/Desktop/GitHub/ibm-ai-engineer-course-path/ibm-ai-venv/lib/python3.11/site-packages (from requests->torchtext==0.17.2) (2.5.0)\n",
      "Requirement already satisfied: certifi>=2017.4.17 in /Users/tenzinjamyang/Desktop/GitHub/ibm-ai-engineer-course-path/ibm-ai-venv/lib/python3.11/site-packages (from requests->torchtext==0.17.2) (2025.7.14)\n",
      "Requirement already satisfied: mpmath<1.4,>=1.1.0 in /Users/tenzinjamyang/Desktop/GitHub/ibm-ai-engineer-course-path/ibm-ai-venv/lib/python3.11/site-packages (from sympy->torch==2.2.2->torchtext==0.17.2) (1.3.0)\n",
      "Requirement already satisfied: portalocker==2.8.2 in /Users/tenzinjamyang/Desktop/GitHub/ibm-ai-engineer-course-path/ibm-ai-venv/lib/python3.11/site-packages (2.8.2)\n",
      "Requirement already satisfied: torchdata==0.7.1 in /Users/tenzinjamyang/Desktop/GitHub/ibm-ai-engineer-course-path/ibm-ai-venv/lib/python3.11/site-packages (0.7.1)\n",
      "Requirement already satisfied: urllib3>=1.25 in /Users/tenzinjamyang/Desktop/GitHub/ibm-ai-engineer-course-path/ibm-ai-venv/lib/python3.11/site-packages (from torchdata==0.7.1) (2.5.0)\n",
      "Requirement already satisfied: requests in /Users/tenzinjamyang/Desktop/GitHub/ibm-ai-engineer-course-path/ibm-ai-venv/lib/python3.11/site-packages (from torchdata==0.7.1) (2.32.4)\n",
      "Requirement already satisfied: torch>=2 in /Users/tenzinjamyang/Desktop/GitHub/ibm-ai-engineer-course-path/ibm-ai-venv/lib/python3.11/site-packages (from torchdata==0.7.1) (2.2.2)\n",
      "Requirement already satisfied: filelock in /Users/tenzinjamyang/Desktop/GitHub/ibm-ai-engineer-course-path/ibm-ai-venv/lib/python3.11/site-packages (from torch>=2->torchdata==0.7.1) (3.18.0)\n",
      "Requirement already satisfied: typing-extensions>=4.8.0 in /Users/tenzinjamyang/Desktop/GitHub/ibm-ai-engineer-course-path/ibm-ai-venv/lib/python3.11/site-packages (from torch>=2->torchdata==0.7.1) (4.14.1)\n",
      "Requirement already satisfied: sympy in /Users/tenzinjamyang/Desktop/GitHub/ibm-ai-engineer-course-path/ibm-ai-venv/lib/python3.11/site-packages (from torch>=2->torchdata==0.7.1) (1.14.0)\n",
      "Requirement already satisfied: networkx in /Users/tenzinjamyang/Desktop/GitHub/ibm-ai-engineer-course-path/ibm-ai-venv/lib/python3.11/site-packages (from torch>=2->torchdata==0.7.1) (3.5)\n",
      "Requirement already satisfied: jinja2 in /Users/tenzinjamyang/Desktop/GitHub/ibm-ai-engineer-course-path/ibm-ai-venv/lib/python3.11/site-packages (from torch>=2->torchdata==0.7.1) (3.1.6)\n",
      "Requirement already satisfied: fsspec in /Users/tenzinjamyang/Desktop/GitHub/ibm-ai-engineer-course-path/ibm-ai-venv/lib/python3.11/site-packages (from torch>=2->torchdata==0.7.1) (2025.3.0)\n",
      "Requirement already satisfied: MarkupSafe>=2.0 in /Users/tenzinjamyang/Desktop/GitHub/ibm-ai-engineer-course-path/ibm-ai-venv/lib/python3.11/site-packages (from jinja2->torch>=2->torchdata==0.7.1) (3.0.2)\n",
      "Requirement already satisfied: charset_normalizer<4,>=2 in /Users/tenzinjamyang/Desktop/GitHub/ibm-ai-engineer-course-path/ibm-ai-venv/lib/python3.11/site-packages (from requests->torchdata==0.7.1) (3.4.2)\n",
      "Requirement already satisfied: idna<4,>=2.5 in /Users/tenzinjamyang/Desktop/GitHub/ibm-ai-engineer-course-path/ibm-ai-venv/lib/python3.11/site-packages (from requests->torchdata==0.7.1) (3.10)\n",
      "Requirement already satisfied: certifi>=2017.4.17 in /Users/tenzinjamyang/Desktop/GitHub/ibm-ai-engineer-course-path/ibm-ai-venv/lib/python3.11/site-packages (from requests->torchdata==0.7.1) (2025.7.14)\n",
      "Requirement already satisfied: mpmath<1.4,>=1.1.0 in /Users/tenzinjamyang/Desktop/GitHub/ibm-ai-engineer-course-path/ibm-ai-venv/lib/python3.11/site-packages (from sympy->torch>=2->torchdata==0.7.1) (1.3.0)\n",
      "Collecting plotly==5.22.0\n",
      "  Downloading plotly-5.22.0-py3-none-any.whl.metadata (7.1 kB)\n",
      "Collecting tenacity>=6.2.0 (from plotly==5.22.0)\n",
      "  Downloading tenacity-9.1.2-py3-none-any.whl.metadata (1.2 kB)\n",
      "Requirement already satisfied: packaging in /Users/tenzinjamyang/Desktop/GitHub/ibm-ai-engineer-course-path/ibm-ai-venv/lib/python3.11/site-packages (from plotly==5.22.0) (25.0)\n",
      "Downloading plotly-5.22.0-py3-none-any.whl (16.4 MB)\n",
      "\u001b[2K   \u001b[90m━━━━━━━━━━━━━━━━━━━━━━━━━━━━━━━━━━━━━━━━\u001b[0m \u001b[32m16.4/16.4 MB\u001b[0m \u001b[31m21.9 MB/s\u001b[0m  \u001b[33m0:00:00\u001b[0mm0:00:01\u001b[0m00:01\u001b[0m\n",
      "\u001b[?25hDownloading tenacity-9.1.2-py3-none-any.whl (28 kB)\n",
      "Installing collected packages: tenacity, plotly\n",
      "\u001b[2K  Attempting uninstall: plotly\n",
      "\u001b[2K    Found existing installation: plotly 6.2.0\n",
      "\u001b[2K    Uninstalling plotly-6.2.0:\n",
      "\u001b[2K      Successfully uninstalled plotly-6.2.0\n",
      "\u001b[2K   \u001b[90m━━━━━━━━━━━━━━━━━━━━━━━━━━━━━━━━━━━━━━━━\u001b[0m \u001b[32m2/2\u001b[0m [plotly]2m1/2\u001b[0m [plotly]\n",
      "\u001b[1A\u001b[2KSuccessfully installed plotly-5.22.0 tenacity-9.1.2\n",
      "Requirement already satisfied: pandas in /Users/tenzinjamyang/Desktop/GitHub/ibm-ai-engineer-course-path/ibm-ai-venv/lib/python3.11/site-packages (2.3.1)\n",
      "Requirement already satisfied: numpy>=1.23.2 in /Users/tenzinjamyang/Desktop/GitHub/ibm-ai-engineer-course-path/ibm-ai-venv/lib/python3.11/site-packages (from pandas) (1.26.0)\n",
      "Requirement already satisfied: python-dateutil>=2.8.2 in /Users/tenzinjamyang/Desktop/GitHub/ibm-ai-engineer-course-path/ibm-ai-venv/lib/python3.11/site-packages (from pandas) (2.9.0.post0)\n",
      "Requirement already satisfied: pytz>=2020.1 in /Users/tenzinjamyang/Desktop/GitHub/ibm-ai-engineer-course-path/ibm-ai-venv/lib/python3.11/site-packages (from pandas) (2025.2)\n",
      "Requirement already satisfied: tzdata>=2022.7 in /Users/tenzinjamyang/Desktop/GitHub/ibm-ai-engineer-course-path/ibm-ai-venv/lib/python3.11/site-packages (from pandas) (2025.2)\n",
      "Requirement already satisfied: six>=1.5 in /Users/tenzinjamyang/Desktop/GitHub/ibm-ai-engineer-course-path/ibm-ai-venv/lib/python3.11/site-packages (from python-dateutil>=2.8.2->pandas) (1.17.0)\n",
      "Requirement already satisfied: matplotlib==3.9.0 in /Users/tenzinjamyang/Desktop/GitHub/ibm-ai-engineer-course-path/ibm-ai-venv/lib/python3.11/site-packages (3.9.0)\n",
      "Requirement already satisfied: scikit-learn==1.5.0 in /Users/tenzinjamyang/Desktop/GitHub/ibm-ai-engineer-course-path/ibm-ai-venv/lib/python3.11/site-packages (1.5.0)\n",
      "Requirement already satisfied: contourpy>=1.0.1 in /Users/tenzinjamyang/Desktop/GitHub/ibm-ai-engineer-course-path/ibm-ai-venv/lib/python3.11/site-packages (from matplotlib==3.9.0) (1.3.2)\n",
      "Requirement already satisfied: cycler>=0.10 in /Users/tenzinjamyang/Desktop/GitHub/ibm-ai-engineer-course-path/ibm-ai-venv/lib/python3.11/site-packages (from matplotlib==3.9.0) (0.12.1)\n",
      "Requirement already satisfied: fonttools>=4.22.0 in /Users/tenzinjamyang/Desktop/GitHub/ibm-ai-engineer-course-path/ibm-ai-venv/lib/python3.11/site-packages (from matplotlib==3.9.0) (4.59.0)\n",
      "Requirement already satisfied: kiwisolver>=1.3.1 in /Users/tenzinjamyang/Desktop/GitHub/ibm-ai-engineer-course-path/ibm-ai-venv/lib/python3.11/site-packages (from matplotlib==3.9.0) (1.4.8)\n",
      "Requirement already satisfied: numpy>=1.23 in /Users/tenzinjamyang/Desktop/GitHub/ibm-ai-engineer-course-path/ibm-ai-venv/lib/python3.11/site-packages (from matplotlib==3.9.0) (1.26.0)\n",
      "Requirement already satisfied: packaging>=20.0 in /Users/tenzinjamyang/Desktop/GitHub/ibm-ai-engineer-course-path/ibm-ai-venv/lib/python3.11/site-packages (from matplotlib==3.9.0) (25.0)\n",
      "Requirement already satisfied: pillow>=8 in /Users/tenzinjamyang/Desktop/GitHub/ibm-ai-engineer-course-path/ibm-ai-venv/lib/python3.11/site-packages (from matplotlib==3.9.0) (11.3.0)\n",
      "Requirement already satisfied: pyparsing>=2.3.1 in /Users/tenzinjamyang/Desktop/GitHub/ibm-ai-engineer-course-path/ibm-ai-venv/lib/python3.11/site-packages (from matplotlib==3.9.0) (3.2.3)\n",
      "Requirement already satisfied: python-dateutil>=2.7 in /Users/tenzinjamyang/Desktop/GitHub/ibm-ai-engineer-course-path/ibm-ai-venv/lib/python3.11/site-packages (from matplotlib==3.9.0) (2.9.0.post0)\n",
      "Requirement already satisfied: scipy>=1.6.0 in /Users/tenzinjamyang/Desktop/GitHub/ibm-ai-engineer-course-path/ibm-ai-venv/lib/python3.11/site-packages (from scikit-learn==1.5.0) (1.16.0)\n",
      "Requirement already satisfied: joblib>=1.2.0 in /Users/tenzinjamyang/Desktop/GitHub/ibm-ai-engineer-course-path/ibm-ai-venv/lib/python3.11/site-packages (from scikit-learn==1.5.0) (1.5.1)\n",
      "Requirement already satisfied: threadpoolctl>=3.1.0 in /Users/tenzinjamyang/Desktop/GitHub/ibm-ai-engineer-course-path/ibm-ai-venv/lib/python3.11/site-packages (from scikit-learn==1.5.0) (3.6.0)\n",
      "Requirement already satisfied: six>=1.5 in /Users/tenzinjamyang/Desktop/GitHub/ibm-ai-engineer-course-path/ibm-ai-venv/lib/python3.11/site-packages (from python-dateutil>=2.7->matplotlib==3.9.0) (1.17.0)\n"
     ]
    }
   ],
   "source": [
    "!pip install torch==2.2.2\n",
    "!pip install torchtext==0.17.2\n",
    "!pip install portalocker==2.8.2\n",
    "!pip install torchdata==0.7.1\n",
    "!pip install plotly==5.22.0\n",
    "!pip install pandas\n",
    "!pip install matplotlib==3.9.0 scikit-learn==1.5.0"
   ]
  },
  {
   "cell_type": "code",
   "execution_count": 2,
   "id": "074a8973-c3e8-4135-ae6d-34f6fd29c816",
   "metadata": {},
   "outputs": [
    {
     "name": "stdout",
     "output_type": "stream",
     "text": [
      "Requirement already satisfied: numpy==1.26.0 in /Users/tenzinjamyang/Desktop/GitHub/ibm-ai-engineer-course-path/ibm-ai-venv/lib/python3.11/site-packages (1.26.0)\n"
     ]
    }
   ],
   "source": [
    "!pip install numpy==1.26.0"
   ]
  },
  {
   "cell_type": "markdown",
   "id": "1c3dcaec-8f52-41c4-97d2-334aa6189a41",
   "metadata": {},
   "source": [
    "### Import required libraries\n",
    "\n",
    "The following code imports the required libraries.\n"
   ]
  },
  {
   "cell_type": "code",
   "execution_count": 3,
   "id": "d5bff707-d365-4ea9-a351-a9f0cb78a9e8",
   "metadata": {},
   "outputs": [],
   "source": [
    "from tqdm import tqdm\n",
    "import time\n",
    "import numpy as np\n",
    "import pandas as pd\n",
    "from itertools import accumulate\n",
    "import matplotlib.pyplot as plt\n",
    "import math\n",
    "\n",
    "import torch\n",
    "torch.set_num_threads(1)\n",
    "from torch import nn\n",
    "import os\n",
    "\n",
    "\n",
    "from torch.utils.data import DataLoader\n",
    "\n",
    "from torchtext.datasets import AG_NEWS\n",
    "from IPython.display import Markdown as md\n",
    "\n",
    "from torchtext.data.utils import get_tokenizer\n",
    "from torchtext.vocab import build_vocab_from_iterator, GloVe, Vectors\n",
    "from torchtext.datasets import IMDB\n",
    "from torch.utils.data import Dataset\n",
    "from torch.utils.data.dataset import random_split\n",
    "from torchtext.data.functional import to_map_style_dataset\n",
    "\n",
    "import pickle\n",
    "\n",
    "from urllib.request import urlopen\n",
    "import io\n",
    "\n",
    "import tarfile\n",
    "import tempfile\n",
    "\n",
    "from torch.nn.utils.rnn import pad_sequence\n",
    "\n",
    "# You can also use this section to suppress warnings generated by your code:\n",
    "def warn(*args, **kwargs):\n",
    "    pass\n",
    "import warnings\n",
    "warnings.warn = warn\n",
    "warnings.filterwarnings('ignore')"
   ]
  },
  {
   "cell_type": "markdown",
   "id": "14e3821d-bb9e-44ad-ad80-022aeeb13b7e",
   "metadata": {},
   "source": [
    "### Define helper functions\n",
    "\n",
    "The following code shows some helper functions to help with plotting, saving, and loading files. These functions are not the main focus of this lab, so you do not have to dwell on these too long. However, do run the cells in this section to define these helper functions.\n"
   ]
  },
  {
   "cell_type": "code",
   "execution_count": 4,
   "id": "efd0be9d-a0b5-4439-b331-2d5c8b462014",
   "metadata": {},
   "outputs": [],
   "source": [
    "def plot(COST,ACC):\n",
    "\n",
    "    fig, ax1 = plt.subplots()\n",
    "    color = 'tab:red'\n",
    "    ax1.plot(COST, color=color)\n",
    "    ax1.set_xlabel('epoch', color=color)\n",
    "    ax1.set_ylabel('total loss', color=color)\n",
    "    ax1.tick_params(axis='y', color=color)\n",
    "\n",
    "    ax2 = ax1.twinx()\n",
    "    color = 'tab:blue'\n",
    "    ax2.set_ylabel('accuracy', color=color)  # you already handled the x-label with ax1\n",
    "    ax2.plot(ACC, color=color)\n",
    "    ax2.tick_params(axis='y', color=color)\n",
    "    fig.tight_layout()  # otherwise the right y-label is slightly clipped\n",
    "\n",
    "    plt.show()"
   ]
  },
  {
   "cell_type": "code",
   "execution_count": 5,
   "id": "a384f493-3d96-463d-a175-8b71cb4b0eec",
   "metadata": {},
   "outputs": [],
   "source": [
    "def save_list_to_file(lst, filename):\n",
    "    \"\"\"\n",
    "    Save a list to a file using pickle serialization.\n",
    "\n",
    "    Parameters:\n",
    "        lst (list): The list to be saved.\n",
    "        filename (str): The name of the file to save the list to.\n",
    "\n",
    "    Returns:\n",
    "        None\n",
    "    \"\"\"\n",
    "    with open(filename, 'wb') as file:\n",
    "        pickle.dump(lst, file)\n",
    "\n",
    "def load_list_from_file(filename):\n",
    "    \"\"\"\n",
    "    Load a list from a file using pickle deserialization.\n",
    "\n",
    "    Parameters:\n",
    "        filename (str): The name of the file to load the list from.\n",
    "\n",
    "    Returns:\n",
    "        list: The loaded list.\n",
    "    \"\"\"\n",
    "    with open(filename, 'rb') as file:\n",
    "        loaded_list = pickle.load(file)\n",
    "    return loaded_list"
   ]
  },
  {
   "cell_type": "markdown",
   "id": "54c151ea-e66f-4086-a646-1d93e58cba64",
   "metadata": {},
   "source": [
    "---\n"
   ]
  },
  {
   "cell_type": "markdown",
   "id": "708df830-65f6-4a85-aff4-d242f91a2407",
   "metadata": {},
   "source": [
    "# Positional encodings\n",
    "\n",
    "Positional encodings play a pivotal role in transformers and various sequence-to-sequence models, aiding in conveying critical information regarding the positions or sequencing of elements within a given sequence. To illustrate, let's examine the sentences: \"He painted the car red\" and \"He painted the red car.\" Despite their distinct meanings, it's worth noting that the embeddings for these sentences remain identical in the absence of positional encodings. The following class defines positional encodings by inheriting from PyTorch's `Module` class.\n"
   ]
  },
  {
   "cell_type": "code",
   "execution_count": 6,
   "id": "feee7003-15eb-400d-ad49-e31b5e092b6c",
   "metadata": {},
   "outputs": [],
   "source": [
    "class PositionalEncoding(nn.Module):\n",
    "    \"\"\"\n",
    "    https://pytorch.org/tutorials/beginner/transformer_tutorial.html\n",
    "    \"\"\"\n",
    "\n",
    "    def __init__(self, d_model, vocab_size=5000, dropout=0.1):\n",
    "        super().__init__()\n",
    "        self.dropout = nn.Dropout(p=dropout)\n",
    "\n",
    "        pe = torch.zeros(vocab_size, d_model)\n",
    "        position = torch.arange(0, vocab_size, dtype=torch.float).unsqueeze(1)\n",
    "        div_term = torch.exp(\n",
    "            torch.arange(0, d_model, 2).float()\n",
    "            * (-math.log(10000.0) / d_model)\n",
    "        )\n",
    "        pe[:, 0::2] = torch.sin(position * div_term)\n",
    "        pe[:, 1::2] = torch.cos(position * div_term)\n",
    "        pe = pe.unsqueeze(0)\n",
    "        self.register_buffer(\"pe\", pe)\n",
    "\n",
    "    def forward(self, x):\n",
    "        x = x + self.pe[:, : x.size(1), :]\n",
    "        return self.dropout(x)"
   ]
  },
  {
   "cell_type": "markdown",
   "id": "e9d68b26-b068-431d-9f09-ae38f74651fb",
   "metadata": {},
   "source": [
    "# Import IMDB data set\n"
   ]
  },
  {
   "cell_type": "markdown",
   "id": "9ed1d607-82f0-4887-8498-4a5c5718f062",
   "metadata": {},
   "source": [
    "The following code loads the IMDB data set.\n"
   ]
  },
  {
   "cell_type": "code",
   "execution_count": 7,
   "id": "ab038aab-4129-45ae-9f9e-11746d254850",
   "metadata": {},
   "outputs": [],
   "source": [
    "urlopened = urlopen('https://cf-courses-data.s3.us.cloud-object-storage.appdomain.cloud/35t-FeC-2uN1ozOwPs7wFg.gz')\n",
    "tar = tarfile.open(fileobj=io.BytesIO(urlopened.read()))\n",
    "tempdir = tempfile.TemporaryDirectory()\n",
    "tar.extractall(tempdir.name)\n",
    "tar.close()"
   ]
  },
  {
   "cell_type": "markdown",
   "id": "6c91f743-4cde-4963-a36e-7748fe9dd018",
   "metadata": {},
   "source": [
    "## IMDB data set overview\n",
    "\n",
    "The **IMDB data set** contains movie reviews from the Internet Movie Database (IMDB) and is commonly used for binary sentiment classification tasks. It's a popular data set for training and testing models in natural language processing (NLP), particularly in the context of sentiment analysis.\n",
    "\n",
    "### Data set composition\n",
    "\n",
    "- **Reviews**: The data set consists of 50,000 movie reviews, divided evenly into 25,000 training and 25,000 testing samples.\n",
    "- **Sentiment labels**: Each review is labeled as either positive or negative, indicating the sentiment expressed in the review. The data set is balanced, with an equal number of positive and negative reviews in both the training and testing sets.\n",
    "- **Text content**: Reviews are presented as plain text and have been preprocessed to some extent. For example, HTML tags are removed, but the text retains its original punctuation and capitalization.\n",
    "- **Usage**: The data set is commonly used to train models for binary sentiment classification, where the goal is to predict whether a given review is positive or negative based on its text content.\n",
    "\n",
    "### Applications\n",
    "\n",
    "- **Sentiment analysis**: The primary application of the IMDB data set is in sentiment analysis, where it serves as a benchmark for various text classification algorithms.\n",
    "- **Natural language processing**: The data set is widely used in NLP research and applications, providing a basis for testing the effectiveness of different models and approaches in understanding human language.\n",
    "\n",
    "### Challenges\n",
    "\n",
    "The data set is small, so it's hard to train a model from scratch.\n",
    "\n",
    "The following class is defined to traverse the IMDB data set. The need to define this class arises from the fact that the IMDB data set is split across a large number of files.\n"
   ]
  },
  {
   "cell_type": "code",
   "execution_count": 8,
   "id": "1902055d-e20a-4eba-9cd5-d988aeeac4d4",
   "metadata": {},
   "outputs": [],
   "source": [
    "class IMDBDataset(Dataset):\n",
    "    def __init__(self, root_dir, train=True):\n",
    "        \"\"\"\n",
    "        root_dir: The base directory of the IMDB dataset.\n",
    "        train: A boolean flag indicating whether to use training or test data.\n",
    "        \"\"\"\n",
    "        self.root_dir = os.path.join(root_dir, \"train\" if train else \"test\")\n",
    "        self.neg_files = [os.path.join(self.root_dir, \"neg\", f) for f in os.listdir(os.path.join(self.root_dir, \"neg\")) if f.endswith('.txt')]\n",
    "        self.pos_files = [os.path.join(self.root_dir, \"pos\", f) for f in os.listdir(os.path.join(self.root_dir, \"pos\")) if f.endswith('.txt')]\n",
    "        self.files = self.neg_files + self.pos_files\n",
    "        self.labels = [0] * len(self.neg_files) + [1] * len(self.pos_files)\n",
    "        self.pos_inx=len(self.pos_files)\n",
    "\n",
    "    def __len__(self):\n",
    "        return len(self.files)\n",
    "\n",
    "    def __getitem__(self, idx):\n",
    "        file_path = self.files[idx]\n",
    "        label = self.labels[idx]\n",
    "        with open(file_path, 'r', encoding='utf-8') as file:\n",
    "            content = file.read()\n",
    "        return label, content"
   ]
  },
  {
   "cell_type": "markdown",
   "id": "f7a34e09-1c62-4c4b-b35c-1fe34a4d80f0",
   "metadata": {},
   "source": [
    "The following code uses the `IMDBDataset` class previously defined to create iterators for the train and test data sets. In the latter part of the cell, you can return 20 examples from the train set.\n"
   ]
  },
  {
   "cell_type": "code",
   "execution_count": 9,
   "id": "4a765946-46ee-420d-9957-d5ba3f0c9215",
   "metadata": {},
   "outputs": [
    {
     "name": "stdout",
     "output_type": "stream",
     "text": [
      "(0, \"Four Eyed Monsters follows the relationship of a shy, reclusive videographer and an equally estranged struggling artist, who, both living in the Big Apple, develop an unlikely romance with the help of an internet dating site. This in itself is not so unusual, but what is, is their method of communication. Foregoing the verbal, they take to writing notes and later communicating through video.<br /><br />The film is based upon the creator's (Arin Crumley & Susan Buice) own relationship, who besides writing and directing, take to acting as the lead characters as well. With elements of avant-garde, anti-plot, and docudrama, the film scatters itself to the wind with an undecided structure nestled neatly between narcissism and self-indulgence.<br /><br />As the movie wears on, a brief separation and deterioration of their once intriguing form of communication grow old as the couple face the hardship of reality. Focusing solely on inner conflict, or the woes of relationship, the film struggles through a stagnant narrative that is neither original, nor poignant. This could have been easily circumvented with the addition of subplot and external conflict, and a third act, to which there is none - just a montage of melodrama that leads nowhere.<br /><br />What is even more aggravating is the film's descent from story into reality that abruptly concludes with an open ended and unsatisfying finish. This would have been all fine and dandy, but there is no question asked and no meaning to be discovered or pondered.<br /><br />(On a side note, the film contains beautiful animation and a vivid and moving soundtrack, one of the more interesting aspects of the production.)<br /><br />But as always, watch the film and decide for yourself.\")\n",
      "(0, 'Oh, I heard so much good about this movie. Went to see it with my best friend (she\\'s female, I\\'m male). Now please allow me a divergent opinion from the mainstream. After the first couple of dozen \"take off your clothes,\" we both felt a very strange combination of silliness and boredom. We laughed (at it, not with it), we dozed (and would have been better off staying in bed), we were convinced we had spent money in vain. And we had. The plot was incoherent, and the characters were a group of people about whom it was impossible to care. A waste of money, a waste of celluloid. This movie doesn\\'t even deserve one out of ten votes, but that\\'s the lowest available. I\\'m not sure why this movie has the reputation that it does of being excellent; I don\\'t recommend it to anyone who has even a modicum of taste or intelligence.')\n",
      "(0, \"What a disappointment, especially in light of the budget provided, the technical resources available, and the talent assembled. Isn't the fundamental rule for science fiction/drama to create in the audience the willing suspension of disbelief. POA 2001 creates a plausible beginning, suckering us in, but thereinafter Mr. Burton forgets that his moviegoers have working brains. The over the top libertarian of Helena Bonham Carter's chimp, the worthlessness of the humans' lockup, the ease of their escape, their extraordinary skills of horsemanship (this is an astronaut and a group of human primitives suddenly riding full tilt), the massive and immediate human rebellion all are too unbelievable. Mark Wahlberg never once projects any sense of real fear, danger or comeuppance in this world turned upside down. Compare to the original, in which Chuck Heston's nakedness metaphorically captured his utter helplessness and astonishment at his turn of events. The uniformed Wahlberg preserves his modesty, but also his apparent sense of management and control in an inherently wacky situation, and we never really wonder about his well being. Unlike Heston, he seems never to be in real jeopardy. Tim Burton should have used some of the f/x budget for some competent screenwriting. In fact, after this inferior fiasco, I wonder why Hollywood's producers ever bothered to settle the screenwriters and directors strike threats. Let them walk. Trained monkeys could have done as well as they did in Planet of the Apes 2001. I'll bet the repeat viewings of this effort will be nonexistent. It could have been a new franchise, and a wonderful new step for imagination. Another opportunity lost.\")\n",
      "(0, \"<br /><br />According to reviewers, the year is 1955 and the players are 20 year-old college kids about to enter grad school. Jolly joke!<br /><br />1955? The synthesizer keyboard was not invented yet, but there it is on the bandstand. The Ford Pony Car was not invented yet, but there it is playing oldies music. The synthesizer appeared to be a model from the mid 1970's. The Pony Car at best is from the mid 1960's.<br /><br />20 year-old college kids? Josh Brolin had seen 32 birthdays when this made-for-TV movie was produced.<br /><br />The plot is so predictable that viewers have plenty of spare time to think of all the errors appearing upon their TV's.\")\n",
      "(0, 'Richard Farnsworth is one of my favorite actors. He usually gives solid performances, such as in The Straight Story, and The Grey Fox. He also does fairly well here, but the rest of the film suffers from a low budget, poor writing, and so-so photography. The Miller-Movie formula gives it a 4. Richard gets a 5.')\n",
      "(0, 'My comments may be a bit of a spoiler, for what it\\'s worth. Stop now if you care enough....<br /><br />Saving Grace should have been titled \"A Paper-Thin Excuse for Old British Women to Get High On-Screen.\" This film is dumb. The incidental music is an annoyance as are the obvious, hackneyed tunes that sporadically pop up to comment on the narrative (\"Spirit in the Sky,\" for example - Oh, I get it!) This is basically a Cheech and Chong movie made credible by its stodgy English setting and Brenda Blethyn\\'s overwhelming power to inflict emotion on an audience using her voice alone. I could literally hear the folks over at High Times magazine receiving their jollies over the enormous \"buds\" that litter this picture. Worst scene? Easy. Brenda attempts to peddle her illicit wares on the street of London in a blaring white dress-suit. Not funny. Not original. Not interesting. Not a good movie. The 7.2 rating is the result of zealots over-voting. Don\\'t waste your time...')\n",
      "(0, 'The \"saucy\" misadventures of four au pairs who arrive in London on the same day in the early 1970s. There\\'s a Swedish girl, a Danish, a German and a Chinese. The story contrives to get the clothes off all of them, involve them in some Carry On-type humour and couple them with various misfits from the British film and TV culture of the time, including Man About the House star Richard O\\'Sullivan, future Coronation Street rogue Johnny Briggs and horror film stalwart Ferdy Mayne (playing a sheik). There\\'s a pretty risqué amount of female nudity on display, for those who like that kind of thing (but obviously nothing hardcore).<br /><br />Most of the film is pretty thin and inconsequential; the girls are stereotypes, and German Anita especially suffers from some kind of infantalising disorder - she\\'s a moron obsessed with colour TV who acts like a kind of uninhibited child & dresses to deliberately show her private parts; in another more serious film, she would be a psychiatric case. The most interesting section of the film involves the Swedish girl being taken to a club in London where some dodgy types are still trying to swing, being seduced by a middle-aged rocker, losing her virginity and realising that the scene is not for her. These sequences have some energy in them and point to a more intriguing film than we\\'ve ended up with, in which promiscuity and the dregs of the music business and upper classes live soulless and seedy lives (there\\'s a fine turn by John Standing as an impotent public school roué). The strangest of the stories has the Chinese girl (future cannibal film veteran Me Me Lay) getting off with her childish piano prodigy employer, falling mutually in love with and then leaving in the middle of the night for no good reason at all, except some orientalist notion that \"Chinese birds are inscrutable, ain\\'t they?!\" The film is pretty demeaning to its women characters and there\\'s a smattering of homophobia in the dialogue and one of the characterisations. The end is striking, as Mayne\\'s sheik for no earthly reason (except they have to end the film somehow) whisks all of the girls away to his Arab kingdom for what looks to all the world like a future in the white slave trade, which they are all delighted about.<br /><br />Stuff and nonsense for the most part then, but directed with a fair amount of skill by veteran Val Guest, which puts it as a piece of film-making a notch above most of the 70s Brit sexploitation flicks.')\n",
      "(0, 'Oh, those Italians! Assuming that movies about aristocrats with weird fetishes, castles drowned in gothic atmosphere, and back-stabbing relatives trying to get their hands on an inheritance are inherently interesting to all! If you\\'ve seen one film of this type, you\\'ve basically seen them all (the MST3K favorite \"Screaming Skull\" fits the mold, too)...and \"The Night Evelyn Came Out of the Grave\" is formulaic, by-the-numbers, and dull as hell. Even the luscious Erika Blanc is put to waste here.<br /><br />zero/10<br /><br />')\n",
      "(0, 'Eight academy nominations? It\\'s beyond belief. I can only think it was a very bad year - even by Hollywood standards. With Huston as director and Jack Nicholson and Kathleen Turner as leads I probably would have swallowed the bait and watched this anyway, but the Oscar nominations really sold it to me, and I feel distinctly cheated as a result.<br /><br />So it\\'s a black comedy is it? Can anyone tell me where the humour is in Prizzi\\'s Honor? It\\'s certainly tasteless (the shooting in the head of a policeman\\'s wife is but another supposedly comic interlude in this intended farce about mafia life) but with the exception of a joke about \\'your favourite Mexican cigars\\' (which I imagine is an old joke for Americans who have been officially forbidden from buying anything Cuban for the last 50 years) I failed to spot anything of a comic nature - and I did try. There is a lot of Mafia cliché but cliché doesn\\'t constitute humour in my book.<br /><br />Is it a romantic comedy of sorts? Never. The characters and their relationships are so completely incredible and shallow that they are on a par with Ben Afleck and Jennifer Lopez in Gigli.<br /><br />Is it a cleverly devised parody about the Mafia? Not in a million years. The plot is just pointlessly absurd rather than comically absurd, and it usually just has the feel of a really bad (and cheap) Mafia movie. It feels more like a homage than a parody.<br /><br />With one-dimensional characters and little in the way of humour written for them, the actors are left doing dodgy accents and pulling faces. Well it isn\\'t enough; even when the face is being pulled by that master of the comic facial expression, Jack Nicholson (repleat with puffed up top lip ... now is that meant to be a parody of Brando\\'s padded jowls in The Godfather?... Oh! Who cares?... all I know is, it isn\\'t funny).<br /><br />Throw in some slow, plodding direction (this film drags on for 2 hours), some hopelessly daft and clichéd dialogue such as; \"You remember the Camora? Well we\\'re far bigger, we\\'ll track you down wherever you go\", and clichéd mannerisms and you\\'ll be reaching for that fast forward button before you can say \"capiche?\". Prizzi\\'s Honor is far from being Huston\\'s \"masterpiece\" and is rather a very poor last work. It\\'s definitely one work in the great director\\'s canon that should be given a concrete overcoat and tossed into the Hudson River.')\n",
      "(0, 'Not that I dislike childrens movies, but this was a tearjerker with few redeeming qualities. M.J. Fox was the perfect voice for Stuart and the rest of the talent was wasted. Hugh Laurie can be amazingly funny, but is not given the chance in this movie. It´s sugar-coated sugar and would hardly appeal to anyone over 7 years of age. See Toy Story, Monsters Inc. or Shrek instead. 3/10')\n",
      "(1, 'For a movie that gets no respect there sure are a lot of memorable quotes listed for this gem. Imagine a movie where Joe Piscopo is actually funny! Maureen Stapleton is a scene stealer. The Moroni character is an absolute scream. Watch for Alan \"The Skipper\" Hale jr. as a police Sgt.')\n",
      "(1, 'Bizarre horror movie filled with famous faces but stolen by Cristina Raines (later of TV\\'s \"Flamingo Road\") as a pretty but somewhat unstable model with a gummy smile who is slated to pay for her attempted suicides by guarding the Gateway to Hell! The scenes with Raines modeling are very well captured, the mood music is perfect, Deborah Raffin is charming as Cristina\\'s pal, but when Raines moves into a creepy Brooklyn Heights brownstone (inhabited by a blind priest on the top floor), things really start cooking. The neighbors, including a fantastically wicked Burgess Meredith and kinky couple Sylvia Miles & Beverly D\\'Angelo, are a diabolical lot, and Eli Wallach is great fun as a wily police detective. The movie is nearly a cross-pollination of \"Rosemary\\'s Baby\" and \"The Exorcist\"--but what a combination! Based on the best-seller by Jeffrey Konvitz, \"The Sentinel\" is entertainingly spooky, full of shocks brought off well by director Michael Winner, who mounts a thoughtfully downbeat ending with skill. ***1/2 from ****')\n",
      "(1, 'A solid, if unremarkable film. Matthau, as Einstein, was wonderful. My favorite part, and the only thing that would make me go out of my way to see this again, was the wonderful scene with the physicists playing badmitton, I loved the sweaters and the conversation while they waited for Robbins to retrieve the birdie.')\n",
      "(1, 'It\\'s a strange feeling to sit alone in a theater occupied by parents and their rollicking kids. I felt like instead of a movie ticket, I should have been given a NAMBLA membership.<br /><br />Based upon Thomas Rockwell\\'s respected Book, How To Eat Fried Worms starts like any children\\'s story: moving to a new town. The new kid, fifth grader Billy Forrester was once popular, but has to start anew. Making friends is never easy, especially when the only prospect is Poindexter Adam. Or Erica, who at 4 1/2 feet, is a giant.<br /><br />Further complicating things is Joe the bully. His freckled face and sleeveless shirts are daunting. He antagonizes kids with the Death Ring: a Crackerjack ring that is rumored to kill you if you\\'re punched with it. But not immediately. No, the death ring unleashes a poison that kills you in the eight grade.<br /><br />Joe and his axis of evil welcome Billy by smuggling a handful of slimy worms into his thermos. Once discovered, Billy plays it cool, swearing that he eats worms all the time. Then he throws them at Joe\\'s face. Ewww! To win them over, Billy reluctantly bets that he can eat 10 worms. Fried, boiled, marinated in hot sauce, squashed and spread on a peanut butter sandwich. Each meal is dubbed an exotic name like the \"Radioactive Slime Delight,\" in which the kids finally live out their dream of microwaving a living organism.<br /><br />If you\\'ve ever met me, you\\'ll know that I have an uncontrollably hearty laugh. I felt like a creep erupting at a toddler whining that his \"dilly dick\" hurts. But Fried Worms is wonderfully disgusting. Like a G-rated Farrelly brothers film, it is both vomitous and delightful.<br /><br />Writer/director Bob Dolman is also a savvy storyteller. To raise the stakes the worms must be consumed by 7 pm. In addition Billy holds a dark secret: he has an ultra-sensitive stomach.<br /><br />Dolman also has a keen sense of perspective. With such accuracy, he draws on children\\'s insecurities and tendency to exaggerate mundane dilemmas.<br /><br />If you were to hyperbolize this movie the way kids do their quandaries, you will see that it is essentially about war. Freedom-fighter and freedom-hater use pubescent boys as pawns in proxy wars, only to learn a valuable lesson in unity. International leaders can learn a thing or two about global peacekeeping from Fried Worms.<br /><br />At the end of the film, I was comforted when two chaperoning mothers behind me, looked at each other with befuddlement and agreed, \"That was a great movie.\" Great, now I won\\'t have to register myself in any lawful databases.')\n",
      "(1, \"You probably all already know this by now, but 5 additional episodes never aired can be viewed on ABC.com I've watched a lot of television over the years and this is possibly my favorite show, ever. It's a crime that this beautifully written and acted show was canceled. The actors that played Laura, Whit, Carlos, Mae, Damian, Anya and omg, Steven Caseman - are all incredible and so natural in those roles. Even the kids are great. Wonderful show. So sad that it's gone. Of course I wonder about the reasons it was canceled. There is no way I'll let myself believe that Ms. Moynahan's pregnancy had anything to do with it. It was in the perfect time slot in this market. I've watched all the episodes again on ABC.com - I hope they all come out on DVD some day. Thanks for reading.\")\n",
      "(1, 'I saw the movie with two grown children. Although it was not as clever as Shrek, I thought it was rather good. In a movie theatre surrounded by children who were on spring break, there was not a sound so I know the children all liked it. There parents also seemed engaged. The death and apparent death of characters brought about the appropriate gasps and comments. Hopefully people realize this movie was made for kids. As such, it was successful although I liked it too. Personally I liked the Scrat!!')\n",
      "(1, \"You're using the IMDb.<br /><br />You've given some hefty votes to some of your favourite films.<br /><br />It's something you enjoy doing.<br /><br />And it's all because of this. Fifty seconds. One world ends, another begins.<br /><br />How can it not be given a ten? I wonder at those who give this a seven or an eight... exactly how could THE FIRST FILM EVER MADE be better? For the record, the long, still opening shot is great showmanship, a superb innovation, perfectly suited to the situation. And the dog on the bike is a lovely touch. All this within fifty seconds.<br /><br />The word genius is often overused.<br /><br />THIS is genius.\")\n",
      "(1, \"This was a good film with a powerful message of love and redemption. I loved the transformation of the brother and the repercussions of the horrible disease on the family. Well-acted and well-directed. If there were any flaws, I'd have to say that the story showed the typical suburban family and their difficulties again. What about all people of all cultural backgrounds? I would love to see a movie where all of these cultures are shown - like in real life. Nevertheless, the film soared in terms of its values and its understanding of the how a disease can bring someone closer to his or her maker. Loved the film and it brought tears to my eyes\")\n",
      "(1, 'Made after QUARTET was, TRIO continued the quality of the earlier film versions of the short stories by Maugham. Here the three stories are THE VERGER, MR. KNOW-IT-ALL, and SANITORIUM. The first two are comic (THE VERGER is like a prolonged joke, but one with a good pay-off), and the last more serious (as health issues are involved). Again the author introduces the film and the stories.<br /><br />James Hayter, soon to have his signature role as Samuel Pickwick, is the hero in THE VERGER. He holds this small custodial-type job in a church, but the new Vicar (Michael Hordern) is an intellectual snob. When he hears Hayter has no schooling he fires him. Hayter has saved some money, so he tells his wife (Kathleen Harrison) he fancies buying a small news and tobacco shop. He has a good eye, and his store thrives. Soon he has a whole chain of stores. When his grandchild is christened by Hordern, the latter is amazed to see how prosperous his ex-Verger. The payoff is when bank manager Felix Aylmer meets with Hayter about diversifying his investments. I\\'ll leave it to you to hear the unintentional but ironic coda of the meeting.<br /><br />According to Maugham he met a man like Max Kelada (Nigel Patrick) on a cruise. In MR. KNOW-IT-ALL Kelada is a splashy, friendly, and slightly overbearing type from the Middle East who is on a business trip (regarding jewelry) by steamship. His state-room mate is Mr. Grey (the ever quiet and proper Wilfred Hyde-White) who is somewhat, silently disapproving of Max. Max likes to enliven things, and soon is heavily involved in the ship\\'s entertainment. At this point the story actually resembles part of the plot of the non-Maugham story and film CHINA SEAS (1935), as Max makes a bet that he can tell a real piece of jewelry from a fake (after insisting that a piece of jewelry he spotted is real). I won\\'t describe the way Max rises to the occasion.<br /><br />SANITORIUM is the longest segment. Roland Culver plays \"Ashenden\" (the fictional alter-ego of Maugham - a writer and one time spy as in Hitchcock\\'s THE SECRET AGENT). Here he has to use a sanitorium for a couple of months for his health. He finds a remarkable crew of people, including Jean Simmons as a frail but beautiful young woman, Finlay Currie as an irascible Scotsman, John Laurie as a second irascible Scotsman who is \"at war\" with Currie, Raymond Huntley as a quiet patient who only shows his internal anger at his situation when his wife shows up, and Michael Rennie as a young man who has a serious life threatening illness. Culver watches as three stories among these characters play out to their conclusions. The last, dealing with Simmons and Rennie, is ironic but deeply moving.<br /><br />It was a dandy follow-up to the earlier QUARTET, and well worth watching.')\n",
      "(1, 'For a mature man, to admit that he shed a tear over this film is a mature response, to a mature film.<br /><br />If one need admit more then perhaps one could say that, \"Life\" can never be the same, after viewing such advent for it has moved us to the next level.<br /><br />')\n"
     ]
    }
   ],
   "source": [
    "root_dir = tempdir.name + '/' + 'imdb_dataset'\n",
    "train_iter = IMDBDataset(root_dir=root_dir, train=True)  # For training data\n",
    "test_iter = IMDBDataset(root_dir=root_dir, train=False)  # For test data\n",
    "\n",
    "start=train_iter.pos_inx\n",
    "for i in range(-10,10):\n",
    "    print(train_iter[start+i])"
   ]
  },
  {
   "cell_type": "markdown",
   "id": "d94592bd-2121-48f7-9a1c-857a3f656d16",
   "metadata": {},
   "source": [
    "The following code defines the mapping of numeric labels to positive and negative reviews.\n"
   ]
  },
  {
   "cell_type": "code",
   "execution_count": 10,
   "id": "d6687720-147a-405c-92e0-a7305c4ecfab",
   "metadata": {},
   "outputs": [
    {
     "data": {
      "text/plain": [
       "'positive review'"
      ]
     },
     "execution_count": 10,
     "metadata": {},
     "output_type": "execute_result"
    }
   ],
   "source": [
    "imdb_label = {0: \" negative review\", 1: \"positive review\"}\n",
    "imdb_label[1]"
   ]
  },
  {
   "cell_type": "markdown",
   "id": "46e0c908-3d6a-46dc-a094-71c73bb7bae2",
   "metadata": {},
   "source": [
    "The following code checks to ensure that there are exactly two classes in the train data set.\n"
   ]
  },
  {
   "cell_type": "code",
   "execution_count": 11,
   "id": "c520720a-9420-4eec-a51e-314401bae563",
   "metadata": {},
   "outputs": [
    {
     "data": {
      "text/plain": [
       "2"
      ]
     },
     "execution_count": 11,
     "metadata": {},
     "output_type": "execute_result"
    }
   ],
   "source": [
    "num_class = len(set([label for (label, text) in train_iter]))\n",
    "num_class"
   ]
  },
  {
   "cell_type": "markdown",
   "id": "280f9225-7684-4b1d-9d9a-0db0b5e7cef3",
   "metadata": {},
   "source": [
    "The following code loads a basic English tokenizer and defines a function called ```yield_tokens``` that uses the tokenizer to break down text data yielded by an iterator into tokens.\n"
   ]
  },
  {
   "cell_type": "code",
   "execution_count": 12,
   "id": "68b28096-de46-4606-9e71-e5f79fc910e8",
   "metadata": {},
   "outputs": [],
   "source": [
    "tokenizer = get_tokenizer(\"basic_english\")\n",
    "def yield_tokens(data_iter):\n",
    "    \"\"\"Yield tokens for each data sample.\"\"\"\n",
    "    for _, text in data_iter:\n",
    "        yield tokenizer(text)"
   ]
  },
  {
   "cell_type": "markdown",
   "id": "3814088d-57f1-49c5-a826-3f9635a6a274",
   "metadata": {},
   "source": [
    " The following code loads a pretrained word embedding model called GloVe into a variable called `glove_embedding`.\n"
   ]
  },
  {
   "cell_type": "code",
   "execution_count": 13,
   "id": "18882dc6-6f11-4a29-942d-5ba45a47a2f2",
   "metadata": {},
   "outputs": [],
   "source": [
    "# Note that GloVe embeddings are typically downloaded using:\n",
    "#glove_embedding = GloVe(name=\"6B\", dim=100)\n",
    "# However, the GloVe server is frequently down. The code below offers a workaround\n",
    "\n",
    "\n",
    "class GloVe_override(Vectors):\n",
    "    url = {\n",
    "        \"6B\": \"https://cf-courses-data.s3.us.cloud-object-storage.appdomain.cloud/tQdezXocAJMBMPfUJx_iUg/glove-6B.zip\",\n",
    "    }\n",
    "\n",
    "    def __init__(self, name=\"6B\", dim=100, **kwargs) -> None:\n",
    "        url = self.url[name]\n",
    "        name = \"glove.{}.{}d.txt\".format(name, str(dim))\n",
    "        #name = \"glove.{}/glove.{}.{}d.txt\".format(name, name, str(dim))\n",
    "        super(GloVe_override, self).__init__(name, url=url, **kwargs)\n",
    "\n",
    "class GloVe_override2(Vectors):\n",
    "    url = {\n",
    "        \"6B\": \"https://cf-courses-data.s3.us.cloud-object-storage.appdomain.cloud/tQdezXocAJMBMPfUJx_iUg/glove-6B.zip\",\n",
    "    }\n",
    "\n",
    "    def __init__(self, name=\"6B\", dim=100, **kwargs) -> None:\n",
    "        url = self.url[name]\n",
    "        #name = \"glove.{}.{}d.txt\".format(name, str(dim))\n",
    "        name = \"glove.{}/glove.{}.{}d.txt\".format(name, name, str(dim))\n",
    "        super(GloVe_override2, self).__init__(name, url=url, **kwargs)\n",
    "\n",
    "try:\n",
    "    glove_embedding = GloVe_override(name=\"6B\", dim=100)\n",
    "except:\n",
    "    try:\n",
    "        glove_embedding = GloVe_override2(name=\"6B\", dim=100)\n",
    "    except:\n",
    "        glove_embedding = GloVe(name=\"6B\", dim=100)"
   ]
  },
  {
   "cell_type": "markdown",
   "id": "0369a100-448d-4094-9234-1744bde1a80c",
   "metadata": {},
   "source": [
    "The following code builds a vocabulary object from a pretrained GloVe word embedding model and sets the default index to the <unk> token.\n"
   ]
  },
  {
   "cell_type": "code",
   "execution_count": 14,
   "id": "d3ac2683-cbd1-469f-8a79-ebe8a2f1a497",
   "metadata": {},
   "outputs": [],
   "source": [
    "from torchtext.vocab import GloVe,vocab\n",
    "# Build vocab from glove_vectors\n",
    "vocab = vocab(glove_embedding .stoi, 0,specials=('<unk>', '<pad>'))\n",
    "vocab.set_default_index(vocab[\"<unk>\"])"
   ]
  },
  {
   "cell_type": "markdown",
   "id": "4cde56dc-79ba-469a-9574-41b188431e60",
   "metadata": {},
   "source": [
    "Let's count the number of words in the vocab:\n"
   ]
  },
  {
   "cell_type": "code",
   "execution_count": 15,
   "id": "11b8efb2-4510-40f1-932e-4fc57165d6ce",
   "metadata": {},
   "outputs": [
    {
     "data": {
      "text/plain": [
       "400002"
      ]
     },
     "execution_count": 15,
     "metadata": {},
     "output_type": "execute_result"
    }
   ],
   "source": [
    "vocab_size=len(vocab)\n",
    "vocab_size"
   ]
  },
  {
   "cell_type": "markdown",
   "id": "6b188878-798a-4152-91ad-b3cc16b6278d",
   "metadata": {},
   "source": [
    "Let's test the ```vocab``` function:\n"
   ]
  },
  {
   "cell_type": "code",
   "execution_count": 16,
   "id": "0b454dcd-bff2-4bab-aee2-8dd7fded6241",
   "metadata": {},
   "outputs": [
    {
     "data": {
      "text/plain": [
       "[20]"
      ]
     },
     "execution_count": 16,
     "metadata": {},
     "output_type": "execute_result"
    }
   ],
   "source": [
    "vocab(['he'])"
   ]
  },
  {
   "cell_type": "markdown",
   "id": "febbc823-a5c2-4508-8ff2-b87aa6c1f159",
   "metadata": {},
   "source": [
    "### Data set splits\n"
   ]
  },
  {
   "cell_type": "markdown",
   "id": "a50b4ede-544d-402e-abbb-0cda314c4754",
   "metadata": {},
   "source": [
    "The following converts the data set into map-style data sets and then performs a random split to create separate training and validation data sets. The training data set will contain 95% of the samples in the original training set, while the validation data set will contain the remaining 5%. These data sets can be used for training and evaluating a machine learning model for text classification on the IMDB data set. The final performance of the model will be evaluated on the hold-out test set.\n"
   ]
  },
  {
   "cell_type": "code",
   "execution_count": 17,
   "id": "49b0d92a-4dea-4f08-8594-118ccda7a43f",
   "metadata": {},
   "outputs": [],
   "source": [
    "# Convert the training and testing iterators to map-style datasets.\n",
    "train_dataset = to_map_style_dataset(train_iter)\n",
    "test_dataset = to_map_style_dataset(test_iter)\n",
    "\n",
    "# Determine the number of samples to be used for training and validation (5% for validation).\n",
    "num_train = int(len(train_dataset) * 0.95)\n",
    "\n",
    "# Randomly split the training dataset into training and validation datasets using `random_split`.\n",
    "# The training dataset will contain 95% of the samples, and the validation dataset will contain the remaining 5%.\n",
    "split_train_, split_valid_ = random_split(train_dataset, [num_train, len(train_dataset) - num_train])"
   ]
  },
  {
   "cell_type": "markdown",
   "id": "46a63155-027c-4ec7-839a-116b2d668207",
   "metadata": {},
   "source": [
    "Be aware that the Skills Network currently does not offer GPU access to learners. As a result, training on the full data set could be time-consuming. To address this, you further reduce the size of the training set. This approach helps you mimic the training process as if a GPU were available. However, if you want to train using the full IMDB data set, you must either comment out or remove the two lines in the following code block.\n"
   ]
  },
  {
   "cell_type": "code",
   "execution_count": 18,
   "id": "825167ac-fd7b-4451-b051-3a9f0efad2c9",
   "metadata": {},
   "outputs": [],
   "source": [
    "num_train = int(len(train_dataset) * 0.05)\n",
    "split_train_, _ = random_split(split_train_, [num_train, len(split_train_) - num_train])"
   ]
  },
  {
   "cell_type": "markdown",
   "id": "ddd2282d-6eae-4344-b0b4-a720ebfdda4a",
   "metadata": {},
   "source": [
    "The following code checks to see if a CUDA-compatible GPU is available in the system using PyTorch, a popular deep learning framework. If a GPU is available, it assigns the device variable to \"cuda\" (which stands for CUDA, the parallel computing platform and application programming interface model developed by NVIDIA). If a GPU is not available, it assigns the device variable to \"cpu\" (which means the code will run on the CPU instead).\n"
   ]
  },
  {
   "cell_type": "code",
   "execution_count": 19,
   "id": "0c732c86-493b-45d7-9bb7-59c88f76cdce",
   "metadata": {},
   "outputs": [
    {
     "data": {
      "text/plain": [
       "device(type='cpu')"
      ]
     },
     "execution_count": 19,
     "metadata": {},
     "output_type": "execute_result"
    }
   ],
   "source": [
    "device = torch.device(\"cuda\" if torch.cuda.is_available() else \"cpu\")\n",
    "device"
   ]
  },
  {
   "cell_type": "markdown",
   "id": "37fe642e-5b80-43a3-ab4f-2694d66ad5fa",
   "metadata": {},
   "source": [
    "### Data loader\n"
   ]
  },
  {
   "cell_type": "markdown",
   "id": "4abd3da3-3fd0-479b-8523-42966eefd9a9",
   "metadata": {},
   "source": [
    "The following code prepares the text processing pipeline with the tokenizer and vocabulary. The text pipeline is used to process the raw data strings from the data set iterators.\n",
    "\n",
    "The function **```text_pipeline```** first tokenizes the input text, then **```vocab```** is applied to get the token indices.\n"
   ]
  },
  {
   "cell_type": "code",
   "execution_count": 20,
   "id": "73620475-c80f-45fd-af34-7b3a0a1d2221",
   "metadata": {},
   "outputs": [],
   "source": [
    "def text_pipeline(x):\n",
    "    return vocab(tokenizer(x))"
   ]
  },
  {
   "cell_type": "markdown",
   "id": "45b1338a-d680-4072-829a-51a96fc88cab",
   "metadata": {},
   "source": [
    "In PyTorch, the **`collate_fn`** function is used in conjunction with data loaders to customize the way batches are created from individual samples. The provided code defines a `collate_batch` function in PyTorch, which is used with data loaders to customize batch creation from individual samples. It processes a batch of data, including labels and text sequences. It applies the `text_pipeline` function to preprocess the text. The processed data is then converted into PyTorch tensors and returned as a tuple containing the label tensor, text tensor, and offsets tensor representing the starting positions of each text sequence in the combined tensor. The function also ensures that the returned tensors are moved to the specified device (for example, GPU) for efficient computation.\n"
   ]
  },
  {
   "cell_type": "code",
   "execution_count": 21,
   "id": "a6a18713-c6d2-4260-8ac4-fbb38289ba70",
   "metadata": {},
   "outputs": [],
   "source": [
    "from torch.nn.utils.rnn import pad_sequence\n",
    "\n",
    "def collate_batch(batch):\n",
    "    label_list, text_list = [], []\n",
    "    for _label, _text in batch:\n",
    "\n",
    "        label_list.append(_label)\n",
    "        text_list.append(torch.tensor(text_pipeline(_text), dtype=torch.int64))\n",
    "\n",
    "    label_list = torch.tensor(label_list, dtype=torch.int64)\n",
    "    text_list = pad_sequence(text_list, batch_first=True)\n",
    "\n",
    "    return label_list.to(device), text_list.to(device)"
   ]
  },
  {
   "cell_type": "markdown",
   "id": "ad598ad6-083f-4ab3-9b5b-7c5cdc1b6e64",
   "metadata": {},
   "source": [
    "You can convert the data set objects to data loaders by applying the `collate` function.\n"
   ]
  },
  {
   "cell_type": "code",
   "execution_count": 22,
   "id": "3bb8a81b-e4b6-4cb2-b158-79d51a010c1b",
   "metadata": {},
   "outputs": [],
   "source": [
    "BATCH_SIZE = 32\n",
    "\n",
    "train_dataloader = DataLoader(\n",
    "    split_train_, batch_size=BATCH_SIZE, shuffle=True, collate_fn=collate_batch\n",
    ")\n",
    "valid_dataloader = DataLoader(\n",
    "    split_valid_, batch_size=BATCH_SIZE, shuffle=True, collate_fn=collate_batch\n",
    ")\n",
    "test_dataloader = DataLoader(\n",
    "    test_dataset, batch_size=BATCH_SIZE, shuffle=True, collate_fn=collate_batch\n",
    ")"
   ]
  },
  {
   "cell_type": "markdown",
   "id": "c9b5db5b-038e-4ee7-8272-a1b9649ce9c3",
   "metadata": {},
   "source": [
    "Let's check to see what these data loaders generate.\n"
   ]
  },
  {
   "cell_type": "code",
   "execution_count": 23,
   "id": "4ba85a6b-fba4-48c3-99d5-847b754514c8",
   "metadata": {},
   "outputs": [
    {
     "data": {
      "text/plain": [
       "(tensor([0, 0, 0, 1, 0, 0, 1, 0, 1, 1, 1, 0, 1, 0, 0, 0, 1, 0, 1, 1, 1, 0, 1, 1,\n",
       "         0, 0, 1, 1, 1, 1, 0, 1]),\n",
       " tensor([[    2,  2221,    16,  ...,     0,     0,     0],\n",
       "         [   39,  1064,     5,  ...,     0,     0,     0],\n",
       "         [   43, 73332,    59,  ...,     0,     0,     0],\n",
       "         ...,\n",
       "         [ 1883,     2,  1007,  ...,     0,     0,     0],\n",
       "         [ 2104,  1139,  8933,  ...,     0,     0,     0],\n",
       "         [  281,  9846,    59,  ...,     0,     0,     0]]))"
      ]
     },
     "execution_count": 23,
     "metadata": {},
     "output_type": "execute_result"
    }
   ],
   "source": [
    "label,seqence=next(iter(valid_dataloader))\n",
    "label,seqence"
   ]
  },
  {
   "cell_type": "markdown",
   "id": "90cad2c8-595b-4900-b9f7-0de36a8581f2",
   "metadata": {},
   "source": [
    "### Neural network\n"
   ]
  },
  {
   "cell_type": "markdown",
   "id": "a0d947f8-f41f-41b2-a8ce-7ecde1a22d70",
   "metadata": {},
   "source": [
    "This code defines a class called Net that represents a text classifier based on a PyTorch TransformerEncoder.\n",
    "The constructor takes the following arguments:\n",
    "\n",
    "- `num_class`: The number of classes to classify\n",
    "- `vocab_size`: The size of the vocabulary\n",
    "- `freeze`: Whether to freeze the embedding layer\n",
    "- `nhead`: The number of heads in the transformer encoder\n",
    "- `dim_feedforward`: The dimension of the feedforward layer in the transformer encoder\n",
    "- `num_layers`: The number of transformer encoder layers\n",
    "- `dropout`: The dropout rate\n",
    "- `activation`: The activation function to use in the transformer encoder\n",
    "- `classifier_dropout`: The dropout rate for the classifier\n",
    "\n",
    "**Attributes:**\n",
    "\n",
    "- `emb`: An embedding layer that maps each word in the vocabulary to a dense vector representation\n",
    "- `pos_encoder`: A positional encoding layer that adds positional information to the word vectors\n",
    "- `transformer_encoder`: A transformer encoder layer that processes the sequence of word vectors and extracts high-level features\n",
    "- `classifier`: A linear layer that maps the output of the transformer encoder to the desired number of classes\n",
    "\n",
    "---\n",
    "\n",
    "\n"
   ]
  },
  {
   "cell_type": "code",
   "execution_count": 24,
   "id": "9205b2d7-e078-43e4-9b8a-58323208fdbd",
   "metadata": {},
   "outputs": [],
   "source": [
    "class Net(nn.Module):\n",
    "    \"\"\"\n",
    "    Text classifier based on a pytorch TransformerEncoder.\n",
    "    \"\"\"\n",
    "    def __init__(\n",
    "\n",
    "        self,\n",
    "        num_class,vocab_size,\n",
    "        freeze=True,\n",
    "        nhead=2,\n",
    "        dim_feedforward=128,\n",
    "        num_layers=2,\n",
    "        dropout=0.1,\n",
    "        activation=\"relu\",\n",
    "        classifier_dropout=0.1):\n",
    "\n",
    "        super().__init__()\n",
    "\n",
    "        #self.emb = embedding=nn.Embedding.from_pretrained(glove_embedding.vectors,freeze=freeze)\n",
    "        self.emb = nn.Embedding.from_pretrained(glove_embedding.vectors,freeze=freeze)\n",
    "        embedding_dim = self.emb.embedding_dim\n",
    "\n",
    "\n",
    "        self.pos_encoder = PositionalEncoding(\n",
    "            d_model=embedding_dim,\n",
    "            dropout=dropout,\n",
    "            vocab_size=vocab_size,\n",
    "        )\n",
    "\n",
    "        encoder_layer = nn.TransformerEncoderLayer(\n",
    "            d_model=embedding_dim,\n",
    "            nhead=nhead,\n",
    "            dim_feedforward=dim_feedforward,\n",
    "            dropout=dropout,\n",
    "        )\n",
    "        self.transformer_encoder = nn.TransformerEncoder(\n",
    "            encoder_layer,\n",
    "            num_layers=num_layers,\n",
    "        )\n",
    "        self.classifier = nn.Linear(embedding_dim, num_class)\n",
    "        self.d_model = embedding_dim\n",
    "\n",
    "    def forward(self, x):\n",
    "        x = self.emb(x) * math.sqrt(self.d_model)\n",
    "        x = self.pos_encoder(x)\n",
    "        x = self.transformer_encoder(x)\n",
    "        x = x.mean(dim=1)\n",
    "        x = self.classifier(x)\n",
    "\n",
    "        return x"
   ]
  },
  {
   "cell_type": "markdown",
   "id": "cbc10ca4-2ce9-4d74-ac01-90be57d6e94e",
   "metadata": {},
   "source": [
    "The model can then be trained on labeled data from the IMDB data set with two classes.\n"
   ]
  },
  {
   "cell_type": "markdown",
   "id": "88554998-cd42-47b5-a173-6d56d2ee1a79",
   "metadata": {},
   "source": [
    "Let's create the model.\n"
   ]
  },
  {
   "cell_type": "code",
   "execution_count": 25,
   "id": "c23069fd-bbe0-4a99-a791-89c6a81a411f",
   "metadata": {},
   "outputs": [
    {
     "data": {
      "text/plain": [
       "Net(\n",
       "  (emb): Embedding(400000, 100)\n",
       "  (pos_encoder): PositionalEncoding(\n",
       "    (dropout): Dropout(p=0.1, inplace=False)\n",
       "  )\n",
       "  (transformer_encoder): TransformerEncoder(\n",
       "    (layers): ModuleList(\n",
       "      (0-1): 2 x TransformerEncoderLayer(\n",
       "        (self_attn): MultiheadAttention(\n",
       "          (out_proj): NonDynamicallyQuantizableLinear(in_features=100, out_features=100, bias=True)\n",
       "        )\n",
       "        (linear1): Linear(in_features=100, out_features=128, bias=True)\n",
       "        (dropout): Dropout(p=0.1, inplace=False)\n",
       "        (linear2): Linear(in_features=128, out_features=100, bias=True)\n",
       "        (norm1): LayerNorm((100,), eps=1e-05, elementwise_affine=True)\n",
       "        (norm2): LayerNorm((100,), eps=1e-05, elementwise_affine=True)\n",
       "        (dropout1): Dropout(p=0.1, inplace=False)\n",
       "        (dropout2): Dropout(p=0.1, inplace=False)\n",
       "      )\n",
       "    )\n",
       "  )\n",
       "  (classifier): Linear(in_features=100, out_features=2, bias=True)\n",
       ")"
      ]
     },
     "execution_count": 25,
     "metadata": {},
     "output_type": "execute_result"
    }
   ],
   "source": [
    "device = torch.device(\"cuda\" if torch.cuda.is_available() else \"cpu\")\n",
    "model = Net(num_class=2,vocab_size=vocab_size).to(device)\n",
    "model"
   ]
  },
  {
   "cell_type": "markdown",
   "id": "97bf0495-dc75-4d28-bdbc-0fcd6e755221",
   "metadata": {},
   "source": [
    "The following **`predict`** function takes in a text, a text pipeline, and a model as inputs. It uses a pretrained model passed as a parameter to predict the label of the text for text classification on the IMDB data set.\n"
   ]
  },
  {
   "cell_type": "code",
   "execution_count": 26,
   "id": "adcba16e-9ad5-4d88-95de-9d3e454d2176",
   "metadata": {},
   "outputs": [],
   "source": [
    "def predict(text, text_pipeline, model):\n",
    "    with torch.no_grad():\n",
    "        text = torch.unsqueeze(torch.tensor(text_pipeline(text)),0).to(device)\n",
    "        model.to(device)\n",
    "        output = model(text)\n",
    "        return imdb_label[output.argmax(1).item()]"
   ]
  },
  {
   "cell_type": "code",
   "execution_count": 27,
   "id": "ace8ad73-4d13-4458-b031-794d85b0f26b",
   "metadata": {},
   "outputs": [
    {
     "data": {
      "text/plain": [
       "' negative review'"
      ]
     },
     "execution_count": 27,
     "metadata": {},
     "output_type": "execute_result"
    }
   ],
   "source": [
    "predict(\"I like sports and stuff\", text_pipeline, model)"
   ]
  },
  {
   "cell_type": "markdown",
   "id": "addc38c8-4dcc-44ee-a43e-64044b981c62",
   "metadata": {},
   "source": [
    "You can create a function to evaluate the model's accuracy on a data set. Here, you define two nearly identical evaluation functions, one that provides a `tqdm` progress bar, and one that does not.\n"
   ]
  },
  {
   "cell_type": "code",
   "execution_count": 28,
   "id": "9cb5b7a9-e08d-409b-8f8d-2e7a027ce7ac",
   "metadata": {},
   "outputs": [],
   "source": [
    "def evaluate(dataloader, model_eval):\n",
    "    model_eval.eval()\n",
    "    total_acc, total_count= 0, 0\n",
    "\n",
    "    with torch.no_grad():\n",
    "        for label, text in tqdm(dataloader):\n",
    "            label, text = label.to(device), text.to(device)\n",
    "            output = model_eval(text)\n",
    "            predicted = torch.max(output.data, 1)[1]\n",
    "            total_acc += (predicted == label).sum().item()\n",
    "            total_count += label.size(0)\n",
    "    return total_acc / total_count"
   ]
  },
  {
   "cell_type": "code",
   "execution_count": 29,
   "id": "63264336-b765-4b70-a088-da6ab926575b",
   "metadata": {},
   "outputs": [],
   "source": [
    "def evaluate_no_tqdm(dataloader, model_eval):\n",
    "    model_eval.eval()\n",
    "    total_acc, total_count= 0, 0\n",
    "\n",
    "    with torch.no_grad():\n",
    "        for label, text in dataloader:\n",
    "            label, text = label.to(device), text.to(device)\n",
    "            output = model_eval(text)\n",
    "            predicted = torch.max(output.data, 1)[1]\n",
    "            total_acc += (predicted == label).sum().item()\n",
    "            total_count += label.size(0)\n",
    "    return total_acc / total_count"
   ]
  },
  {
   "cell_type": "markdown",
   "id": "bd0337ab-5b18-4e02-b524-c51dca6e5ec1",
   "metadata": {},
   "source": [
    "The following code evaluates the performance of your model. Note that this can take approximately 4 minutes on a CPU. **For efficiency, let's not run this cell now, but trust us that the performance of the untrained model is no better than average. If you wish to confirm yourself of this fact, you are free to uncomment this cell**:\n"
   ]
  },
  {
   "cell_type": "code",
   "execution_count": 30,
   "id": "144055ce-3d36-4a58-ab25-aa63d0fbd4c6",
   "metadata": {},
   "outputs": [],
   "source": [
    "#evaluate(test_dataloader, model)"
   ]
  },
  {
   "cell_type": "markdown",
   "id": "62bbeffa-416b-4deb-b1b6-6266def6ec8e",
   "metadata": {},
   "source": [
    "Note that the current performance of the model is no better than average. This outcome is expected, considering that the model has not undergone any training yet.\n"
   ]
  },
  {
   "cell_type": "markdown",
   "id": "7e9d540d-5594-443e-9583-855a9d7e2023",
   "metadata": {},
   "source": [
    "---\n"
   ]
  },
  {
   "cell_type": "markdown",
   "id": "fd663ffe-644a-4d6a-839c-3b399f0d9e4b",
   "metadata": {},
   "source": [
    "# Training\n"
   ]
  },
  {
   "cell_type": "markdown",
   "id": "b1a8bc51-65eb-40de-a9f9-f2579fad2fb8",
   "metadata": {},
   "source": [
    "The following coe defines the training function used to train your model.\n"
   ]
  },
  {
   "cell_type": "code",
   "execution_count": 31,
   "id": "548bb006-4ebe-4848-a49a-92614d139044",
   "metadata": {},
   "outputs": [],
   "source": [
    "def train_model(model, optimizer, criterion, train_dataloader, valid_dataloader,  epochs=1000, save_dir=\"\", file_name=None):\n",
    "    cum_loss_list = []\n",
    "    acc_epoch = []\n",
    "    acc_old = 0\n",
    "    model_path = os.path.join(save_dir, file_name)\n",
    "    acc_dir = os.path.join(save_dir, os.path.splitext(file_name)[0] + \"_acc\")\n",
    "    loss_dir = os.path.join(save_dir, os.path.splitext(file_name)[0] + \"_loss\")\n",
    "    time_start = time.time()\n",
    "\n",
    "    for epoch in tqdm(range(1, epochs + 1)):\n",
    "        model.train()\n",
    "        #print(model)\n",
    "        #for parm in model.parameters():\n",
    "        #    print(parm.requires_grad)\n",
    "        \n",
    "        cum_loss = 0\n",
    "        for idx, (label, text) in enumerate(train_dataloader):\n",
    "            optimizer.zero_grad()\n",
    "            label, text = label.to(device), text.to(device)\n",
    "\n",
    "            predicted_label = model(text)\n",
    "            loss = criterion(predicted_label, label)\n",
    "            loss.backward()\n",
    "            #print(loss)\n",
    "            torch.nn.utils.clip_grad_norm_(model.parameters(), 0.1)\n",
    "            optimizer.step()\n",
    "            cum_loss += loss.item()\n",
    "        print(f\"Epoch {epoch}/{epochs} - Loss: {cum_loss}\")\n",
    "\n",
    "        cum_loss_list.append(cum_loss)\n",
    "        accu_val = evaluate_no_tqdm(valid_dataloader,model)\n",
    "        acc_epoch.append(accu_val)\n",
    "\n",
    "        if model_path and accu_val > acc_old:\n",
    "            print(accu_val)\n",
    "            acc_old = accu_val\n",
    "            if save_dir is not None:\n",
    "                pass\n",
    "                #print(\"save model epoch\",epoch)\n",
    "                #torch.save(model.state_dict(), model_path)\n",
    "                #save_list_to_file(lst=acc_epoch, filename=acc_dir)\n",
    "                #save_list_to_file(lst=cum_loss_list, filename=loss_dir)\n",
    "\n",
    "    time_end = time.time()\n",
    "    print(f\"Training time: {time_end - time_start}\")"
   ]
  },
  {
   "cell_type": "markdown",
   "id": "66b9a3ff-71be-495c-846e-49f1736d9128",
   "metadata": {},
   "source": [
    "### Train IMDB\n",
    "\n",
    "The following code sets the learning rate (LR) to 1, which determines the step size at which the optimizer updates the model's parameters during training. The CrossEntropyLoss criterion is used to calculate the loss between the model's predicted outputs and the ground truth labels. This loss function is commonly employed for multiclass classification tasks.\n",
    "\n",
    "The chosen optimizer is Stochastic Gradient Descent (SGD), which optimizes the model's parameters based on the computed gradients with respect to the loss function. The SGD optimizer uses the specified learning rate to control the size of the weight updates.\n",
    "\n",
    "Additionally, a learning rate scheduler is defined using StepLR. This scheduler adjusts the learning rate during training, reducing it by a factor (gamma) of 0.1 after every epoch (step) to improve convergence and fine-tune the model's performance. These components together form the essential setup for training a neural network using the specified learning rate, loss criterion, optimizer, and learning rate scheduler.\n",
    "\n",
    "For the sake of time efficiency, **the following lines are commented out and the model is not actually trained**. If you would like to get a glimpse of what training would look like, uncomment the following code block to train the model for 2 epochs. If you were to train this model in a real-world scenario, you would likely increase the number of epochs to a larger figure, such as 100 or more. Given the reduced training set defined earlier, it takes approximately 2 minutes to complete 2 epochs of training.\n"
   ]
  },
  {
   "cell_type": "code",
   "execution_count": 32,
   "id": "0c37c9d6-632d-4796-b720-eb638859f07d",
   "metadata": {},
   "outputs": [
    {
     "data": {
      "text/plain": [
       "'\\nLR=1\\ncriterion = torch.nn.CrossEntropyLoss()\\noptimizer = torch.optim.SGD(model.parameters(), lr=LR)\\nscheduler = torch.optim.lr_scheduler.StepLR(optimizer, 1.0, gamma=0.1)\\nsave_dir = \"\"\\nfile_name = \"model_IMDB dataset small2.pth\"\\ntrain_model(model=model, \\n            optimizer=optimizer, \\n            criterion=criterion, \\n            train_dataloader=train_dataloader, \\n            valid_dataloader=valid_dataloader, \\n            epochs=2, \\n            save_dir=save_dir, \\n            file_name=file_name\\n           )\\n'"
      ]
     },
     "execution_count": 32,
     "metadata": {},
     "output_type": "execute_result"
    }
   ],
   "source": [
    "'''\n",
    "LR=1\n",
    "criterion = torch.nn.CrossEntropyLoss()\n",
    "optimizer = torch.optim.SGD(model.parameters(), lr=LR)\n",
    "scheduler = torch.optim.lr_scheduler.StepLR(optimizer, 1.0, gamma=0.1)\n",
    "save_dir = \"\"\n",
    "file_name = \"model_IMDB dataset small2.pth\"\n",
    "train_model(model=model, \n",
    "            optimizer=optimizer, \n",
    "            criterion=criterion, \n",
    "            train_dataloader=train_dataloader, \n",
    "            valid_dataloader=valid_dataloader, \n",
    "            epochs=2, \n",
    "            save_dir=save_dir, \n",
    "            file_name=file_name\n",
    "           )\n",
    "'''"
   ]
  },
  {
   "cell_type": "markdown",
   "id": "5a097bed-ebb7-475e-bb16-1862a52a61dd",
   "metadata": {},
   "source": [
    "Let's load a model that has been pretrained using the same method but on the full data set and with 100 epochs.\n",
    "\n",
    "The following code plots the cost and validation data accuracy for each epoch of the pretrained model up to and including the epoch that yielded the highest accuracy. As you can see, the pretrained model achieved an accuracy of over 85% on the validation set.\n"
   ]
  },
  {
   "cell_type": "code",
   "execution_count": 33,
   "id": "85fe39e3-5c49-47d0-9574-bc33f3c926e2",
   "metadata": {},
   "outputs": [
    {
     "data": {
      "image/png": "[encoded data removed]",
      "text/plain": [
       "<Figure size 640x480 with 2 Axes>"
      ]
     },
     "metadata": {},
     "output_type": "display_data"
    }
   ],
   "source": [
    "acc_urlopened = urlopen('https://cf-courses-data.s3.us.cloud-object-storage.appdomain.cloud/sybqacL5p1qeEO8d4xRZNg/model-IMDB%20dataset%20small2-acc')\n",
    "loss_urlopened = urlopen('https://cf-courses-data.s3.us.cloud-object-storage.appdomain.cloud/eOt6woGoaOB565T0RLH5WA/model-IMDB%20dataset%20small2-loss')\n",
    "acc_epoch = pickle.load(acc_urlopened)\n",
    "cum_loss_list = pickle.load(loss_urlopened)\n",
    "plot(cum_loss_list,acc_epoch)"
   ]
  },
  {
   "cell_type": "markdown",
   "id": "605c5e6c-e5cc-4709-a6ba-8d9f5e12adc5",
   "metadata": {},
   "source": [
    "The following code loads your pretrained model and evaluates its performance on the test set. **For efficiency, let's not run the evaluation because it can take approximately 4 minutes to run. Instead, report the result underneath the cell. If you would like to confirm the result for yourself, you are free to uncomment the last line in the following code block.**\n"
   ]
  },
  {
   "cell_type": "code",
   "execution_count": 34,
   "id": "16667b12-599a-48f2-9e8d-ae018ab40d75",
   "metadata": {},
   "outputs": [
    {
     "data": {
      "text/plain": [
       "<All keys matched successfully>"
      ]
     },
     "execution_count": 34,
     "metadata": {},
     "output_type": "execute_result"
    }
   ],
   "source": [
    "urlopened = urlopen('https://cf-courses-data.s3.us.cloud-object-storage.appdomain.cloud/q66IH6a7lglkZ4haM6hB1w/model-IMDB%20dataset%20small2.pth')\n",
    "model_ = Net(vocab_size=vocab_size, num_class=2).to(device)\n",
    "model_.load_state_dict(torch.load(io.BytesIO(urlopened.read()), map_location=device))\n",
    "#evaluate(test_dataloader, model_)"
   ]
  },
  {
   "cell_type": "markdown",
   "id": "2c795d92-ec8e-4c42-9525-e1c744a11ca4",
   "metadata": {},
   "source": [
    "As you can see, the pretrained model achieved an accuracy of approximately 83% on the test data.\n"
   ]
  },
  {
   "cell_type": "markdown",
   "id": "b43f0210-43f6-49fc-a73c-088f0fd9be1d",
   "metadata": {},
   "source": [
    "### Fine-tune a model pretrained on the AG News data set\n",
    "\n",
    "Rather than training a model on the IMDB data set as you did earlier, you can fine-tune a model that has been pretrained on the AG News data set, which is a collection of news articles. The goal of the AG News data set is to categorize news articles into one of four categories: Sports, Business, Sci/tech, or World. You’ll start training a model from scratch on the AG News data set. To save time, you can do this in just one cell. Also, for efficiency, ** comment out the training bit**. If you want to train the model for 2 epochs on a smaller data set to demonstrate what the training process would look like, uncomment the part that says `### Uncomment to Train ###` before running the cell. Training for 2 epochs on the reduced data set can take approximately 3 minutes.\n"
   ]
  },
  {
   "cell_type": "code",
   "execution_count": 35,
   "id": "088b52c2-419c-46e6-a8d9-8c574ffe4cb3",
   "metadata": {},
   "outputs": [
    {
     "data": {
      "text/plain": [
       "'\\n### Uncomment to Train ###\\nLR=1\\ncriterion = torch.nn.CrossEntropyLoss()\\noptimizer = torch.optim.SGD(model_ag_news.parameters(), lr=LR)\\nscheduler = torch.optim.lr_scheduler.StepLR(optimizer, 1.0, gamma=0.1)\\nsave_dir = \"\"\\nfile_name = \"model_AG News small1.pth\"\\ntrain_model(model=model_ag_news, optimizer=optimizer, criterion=criterion, train_dataloader=train_dataloader_ag_news, valid_dataloader=valid_dataloader_ag_news,  epochs=2, save_dir=save_dir, file_name=file_name)\\n'"
      ]
     },
     "execution_count": 35,
     "metadata": {},
     "output_type": "execute_result"
    }
   ],
   "source": [
    "train_iter_ag_news = AG_NEWS(split=\"train\")\n",
    "\n",
    "num_class_ag_news = len(set([label for (label, text) in train_iter_ag_news ]))\n",
    "num_class_ag_news\n",
    "\n",
    "# Split the dataset into training and testing iterators.\n",
    "train_iter_ag_news, test_iter_ag_news = AG_NEWS()\n",
    "\n",
    "# Convert the training and testing iterators to map-style datasets.\n",
    "train_dataset_ag_news = to_map_style_dataset(train_iter_ag_news)\n",
    "test_dataset_ag_news = to_map_style_dataset(test_iter_ag_news)\n",
    "\n",
    "# Determine the number of samples to be used for training and validation (5% for validation).\n",
    "num_train_ag_news = int(len(train_dataset_ag_news) * 0.95)\n",
    "\n",
    "# Randomly split the training dataset into training and validation datasets using `random_split`.\n",
    "# The training dataset will contain 95% of the samples, and the validation dataset will contain the remaining 5%.\n",
    "split_train_ag_news_, split_valid_ag_news_ = random_split(train_dataset_ag_news, [num_train_ag_news, len(train_dataset_ag_news) - num_train_ag_news])\n",
    "\n",
    "# Make the training set smaller to allow it to run fast as an example.\n",
    "# IF YOU WANT TO TRAIN ON THE AG_NEWS DATASET, COMMENT OUT THE 2 LINEs BELOW.\n",
    "# HOWEVER, NOTE THAT TRAINING WILL TAKE A LONG TIME\n",
    "num_train_ag_news = int(len(train_dataset_ag_news) * 0.05)\n",
    "split_train_ag_news_, _ = random_split(split_train_ag_news_, [num_train_ag_news, len(split_train_ag_news_) - num_train_ag_news])\n",
    "\n",
    "\n",
    "device = torch.device(\"cuda\" if torch.cuda.is_available() else \"cpu\")\n",
    "device\n",
    "\n",
    "def label_pipeline(x):\n",
    "   return int(x) - 1\n",
    "\n",
    "from torch.nn.utils.rnn import pad_sequence\n",
    "\n",
    "def collate_batch_ag_news(batch):\n",
    "    label_list, text_list = [], []\n",
    "    for _label, _text in batch:\n",
    "        label_list.append(label_pipeline(_label))\n",
    "        text_list.append(torch.tensor(text_pipeline(_text), dtype=torch.int64))\n",
    "\n",
    "\n",
    "    label_list = torch.tensor(label_list, dtype=torch.int64)\n",
    "    text_list = pad_sequence(text_list, batch_first=True)\n",
    "\n",
    "\n",
    "    return label_list.to(device), text_list.to(device)\n",
    "\n",
    "BATCH_SIZE = 32\n",
    "\n",
    "train_dataloader_ag_news = DataLoader(\n",
    "    split_train_ag_news_, batch_size=BATCH_SIZE, shuffle=True, collate_fn=collate_batch_ag_news\n",
    ")\n",
    "valid_dataloader_ag_news = DataLoader(\n",
    "    split_valid_ag_news_, batch_size=BATCH_SIZE, shuffle=True, collate_fn=collate_batch_ag_news\n",
    ")\n",
    "test_dataloader_ag_news = DataLoader(\n",
    "    test_dataset_ag_news, batch_size=BATCH_SIZE, shuffle=True, collate_fn=collate_batch_ag_news\n",
    ")\n",
    "\n",
    "\n",
    "model_ag_news = Net(num_class=4,vocab_size=vocab_size).to(device)\n",
    "model_ag_news.to(device)\n",
    "\n",
    "'''\n",
    "### Uncomment to Train ###\n",
    "LR=1\n",
    "criterion = torch.nn.CrossEntropyLoss()\n",
    "optimizer = torch.optim.SGD(model_ag_news.parameters(), lr=LR)\n",
    "scheduler = torch.optim.lr_scheduler.StepLR(optimizer, 1.0, gamma=0.1)\n",
    "save_dir = \"\"\n",
    "file_name = \"model_AG News small1.pth\"\n",
    "train_model(model=model_ag_news, optimizer=optimizer, criterion=criterion, train_dataloader=train_dataloader_ag_news, valid_dataloader=valid_dataloader_ag_news,  epochs=2, save_dir=save_dir, file_name=file_name)\n",
    "'''"
   ]
  },
  {
   "cell_type": "markdown",
   "id": "f1f66d43-7b43-48d8-b160-09ebaee076b1",
   "metadata": {},
   "source": [
    "Let's load a model that has been pretrained using the same method but on the full AG News data set for 100 epochs.\n",
    "\n",
    "The following code plots the cost and validation data accuracy for each epoch of the pretrained model up to and including the epoch that yielded the highest accuracy. As you can see, the pretrained model achieved a very high accuracy of over 90% on the AG News validation set.\n"
   ]
  },
  {
   "cell_type": "code",
   "execution_count": 36,
   "id": "4534d5ee-c8d5-46b6-bf8a-751a453768f2",
   "metadata": {},
   "outputs": [
    {
     "data": {
      "image/png": "[encoded data removed]",
      "text/plain": [
       "<Figure size 640x480 with 2 Axes>"
      ]
     },
     "metadata": {},
     "output_type": "display_data"
    }
   ],
   "source": [
    "acc_urlopened = urlopen('https://cf-courses-data.s3.us.cloud-object-storage.appdomain.cloud/bQk8mJu3Uct3I4JEsEtRnw/model-AG%20News%20small1-acc')\n",
    "loss_urlopened = urlopen('https://cf-courses-data.s3.us.cloud-object-storage.appdomain.cloud/KNQkqJWWwY_XfbFBRFhZNA/model-AG%20News%20small1-loss')\n",
    "acc_epoch = pickle.load(acc_urlopened)\n",
    "cum_loss_list = pickle.load(loss_urlopened)\n",
    "plot(cum_loss_list,acc_epoch)"
   ]
  },
  {
   "cell_type": "markdown",
   "id": "26ae21d5-ca87-4977-bb57-9c5457098d31",
   "metadata": {},
   "source": [
    "The following code loads the pretrained model and evaluates its performance on the AG News test set. **For efficiency, let's not run the evaluation because it can take a few minutes. Instead, claim that the pretrained model works well on the AG News dataset. If you would like to confirm the result for yourself, feel free to uncomment the last line in the following code block.**\n"
   ]
  },
  {
   "cell_type": "code",
   "execution_count": 37,
   "id": "e309bbd3-8251-4947-8bdb-8e9a7e30e218",
   "metadata": {},
   "outputs": [
    {
     "data": {
      "text/plain": [
       "<All keys matched successfully>"
      ]
     },
     "execution_count": 37,
     "metadata": {},
     "output_type": "execute_result"
    }
   ],
   "source": [
    "urlopened = urlopen('https://cf-courses-data.s3.us.cloud-object-storage.appdomain.cloud/9c3Dh2O_jsYBShBuchUNlg/model-AG%20News%20small1.pth')\n",
    "model_ag_news_ = Net(vocab_size=vocab_size, num_class=4).to(device)\n",
    "model_ag_news_.load_state_dict(torch.load(io.BytesIO(urlopened.read()), map_location=device))\n",
    "#evaluate(test_dataloader_ag_news, model_ag_news_)"
   ]
  },
  {
   "cell_type": "markdown",
   "id": "1eb12fce-e547-4a42-8d02-dc34f33e190b",
   "metadata": {},
   "source": [
    "As you can see, the pretrained model worked extremely well on the AG News data set. However, can this model be fine-tuned to perform well on the IMDB data set as well? Let's find out! You can begin by loading the pretrained AG News model.\n"
   ]
  },
  {
   "cell_type": "code",
   "execution_count": 38,
   "id": "59751c83-4b24-466c-a3c8-e878db93398d",
   "metadata": {},
   "outputs": [
    {
     "data": {
      "text/plain": [
       "<All keys matched successfully>"
      ]
     },
     "execution_count": 38,
     "metadata": {},
     "output_type": "execute_result"
    }
   ],
   "source": [
    "urlopened = urlopen('https://cf-courses-data.s3.us.cloud-object-storage.appdomain.cloud/9c3Dh2O_jsYBShBuchUNlg/model-AG%20News%20small1.pth')\n",
    "model_fine1 = Net(vocab_size=vocab_size, num_class=4).to(device)\n",
    "model_fine1.load_state_dict(torch.load(io.BytesIO(urlopened.read()), map_location=device))\n"
   ]
  },
  {
   "cell_type": "markdown",
   "id": "62300fd0-40d8-4265-902e-c0722cebbbb4",
   "metadata": {},
   "source": [
    "The IMDB dataset is a binary classification task with only two classes (positive and negative reviews). Therefore, the output layer of the AG NEWS model should be adjusted to have just two output neurons to reflect the binary nature of the IMDB dataset. This adjustment is essential for the model to accurately learn and predict the sentiment of movie reviews in the IMDB dataset.\n"
   ]
  },
  {
   "cell_type": "code",
   "execution_count": 39,
   "id": "2a4e4a43-4c73-4fb5-b753-f22d9e0b1705",
   "metadata": {},
   "outputs": [
    {
     "name": "stdout",
     "output_type": "stream",
     "text": [
      "Original final layer: Linear(in_features=100, out_features=4, bias=True)\n",
      "Input dimention  final layer: 100\n"
     ]
    }
   ],
   "source": [
    "model_fine1.classifier\n",
    "in_features = model_fine1.classifier.in_features\n",
    "print(\"Original final layer:\", model_fine1.classifier)\n",
    "print(\"Input dimention  final layer:\", in_features)"
   ]
  },
  {
   "cell_type": "markdown",
   "id": "0872a603-3ba2-4d48-bebd-fa6b3b6a1277",
   "metadata": {},
   "source": [
    "You can change the final layer into a two-class problem.\n"
   ]
  },
  {
   "cell_type": "code",
   "execution_count": 40,
   "id": "01d9401a-95a8-4f6f-a02a-8eed3c84e04c",
   "metadata": {},
   "outputs": [
    {
     "data": {
      "text/plain": [
       "Net(\n",
       "  (emb): Embedding(400000, 100)\n",
       "  (pos_encoder): PositionalEncoding(\n",
       "    (dropout): Dropout(p=0.1, inplace=False)\n",
       "  )\n",
       "  (transformer_encoder): TransformerEncoder(\n",
       "    (layers): ModuleList(\n",
       "      (0-1): 2 x TransformerEncoderLayer(\n",
       "        (self_attn): MultiheadAttention(\n",
       "          (out_proj): NonDynamicallyQuantizableLinear(in_features=100, out_features=100, bias=True)\n",
       "        )\n",
       "        (linear1): Linear(in_features=100, out_features=128, bias=True)\n",
       "        (dropout): Dropout(p=0.1, inplace=False)\n",
       "        (linear2): Linear(in_features=128, out_features=100, bias=True)\n",
       "        (norm1): LayerNorm((100,), eps=1e-05, elementwise_affine=True)\n",
       "        (norm2): LayerNorm((100,), eps=1e-05, elementwise_affine=True)\n",
       "        (dropout1): Dropout(p=0.1, inplace=False)\n",
       "        (dropout2): Dropout(p=0.1, inplace=False)\n",
       "      )\n",
       "    )\n",
       "  )\n",
       "  (classifier): Linear(in_features=100, out_features=2, bias=True)\n",
       ")"
      ]
     },
     "execution_count": 40,
     "metadata": {},
     "output_type": "execute_result"
    }
   ],
   "source": [
    "model_fine1.classifier = nn.Linear(in_features, 2)\n",
    "model_fine1.to(device)"
   ]
  },
  {
   "cell_type": "markdown",
   "id": "b33493a1-9819-43cb-97d3-724b148e632d",
   "metadata": {},
   "source": [
    "The following code shows the layers that are frozen (`requires_grad == False`) and unfrozen (`requires_grad == True`) in the model. The unfrozen layers will have their weights updated during fine-tuning.\n"
   ]
  },
  {
   "cell_type": "code",
   "execution_count": 41,
   "id": "4714be47-fdfe-46aa-b361-66de22bd4b03",
   "metadata": {},
   "outputs": [
    {
     "name": "stdout",
     "output_type": "stream",
     "text": [
      "emb.weight requires_grad: False\n",
      "transformer_encoder.layers.0.self_attn.in_proj_weight requires_grad: True\n",
      "transformer_encoder.layers.0.self_attn.in_proj_bias requires_grad: True\n",
      "transformer_encoder.layers.0.self_attn.out_proj.weight requires_grad: True\n",
      "transformer_encoder.layers.0.self_attn.out_proj.bias requires_grad: True\n",
      "transformer_encoder.layers.0.linear1.weight requires_grad: True\n",
      "transformer_encoder.layers.0.linear1.bias requires_grad: True\n",
      "transformer_encoder.layers.0.linear2.weight requires_grad: True\n",
      "transformer_encoder.layers.0.linear2.bias requires_grad: True\n",
      "transformer_encoder.layers.0.norm1.weight requires_grad: True\n",
      "transformer_encoder.layers.0.norm1.bias requires_grad: True\n",
      "transformer_encoder.layers.0.norm2.weight requires_grad: True\n",
      "transformer_encoder.layers.0.norm2.bias requires_grad: True\n",
      "transformer_encoder.layers.1.self_attn.in_proj_weight requires_grad: True\n",
      "transformer_encoder.layers.1.self_attn.in_proj_bias requires_grad: True\n",
      "transformer_encoder.layers.1.self_attn.out_proj.weight requires_grad: True\n",
      "transformer_encoder.layers.1.self_attn.out_proj.bias requires_grad: True\n",
      "transformer_encoder.layers.1.linear1.weight requires_grad: True\n",
      "transformer_encoder.layers.1.linear1.bias requires_grad: True\n",
      "transformer_encoder.layers.1.linear2.weight requires_grad: True\n",
      "transformer_encoder.layers.1.linear2.bias requires_grad: True\n",
      "transformer_encoder.layers.1.norm1.weight requires_grad: True\n",
      "transformer_encoder.layers.1.norm1.bias requires_grad: True\n",
      "transformer_encoder.layers.1.norm2.weight requires_grad: True\n",
      "transformer_encoder.layers.1.norm2.bias requires_grad: True\n",
      "classifier.weight requires_grad: True\n",
      "classifier.bias requires_grad: True\n"
     ]
    }
   ],
   "source": [
    "for name, param in model_fine1.named_parameters():\n",
    "    print(f\"{name} requires_grad: {param.requires_grad}\")"
   ]
  },
  {
   "cell_type": "markdown",
   "id": "c58ca1f1-2ea0-44a9-8d60-bfdaf3bc988f",
   "metadata": {},
   "source": [
    "The following code block simulates fine-tuning on the shortened training set for just 2 epochs. **For the sake of time efficiency, this code block has been commented out**. If you want to see what training looks like, uncomment the following code block, but remember that this code could take approximately 2 minutes to run.\n"
   ]
  },
  {
   "cell_type": "code",
   "execution_count": 42,
   "id": "ce4ee646-d603-4b18-bc1e-337e6b4093e2",
   "metadata": {},
   "outputs": [
    {
     "data": {
      "text/plain": [
       "'\\nLR=1\\ncriterion = torch.nn.CrossEntropyLoss()\\noptimizer = torch.optim.SGD(model_fine1.parameters(), lr=LR)\\nscheduler = torch.optim.lr_scheduler.StepLR(optimizer, 1.0, gamma=0.1)\\nsave_dir = \"\"\\nfile_name = \"model_fine1.pth\"\\ntrain_model(model=model_fine1, optimizer=optimizer, criterion=criterion, train_dataloader=train_dataloader, valid_dataloader=valid_dataloader,  epochs=2,  save_dir=save_dir ,file_name=file_name )\\n'"
      ]
     },
     "execution_count": 42,
     "metadata": {},
     "output_type": "execute_result"
    }
   ],
   "source": [
    "'''\n",
    "LR=1\n",
    "criterion = torch.nn.CrossEntropyLoss()\n",
    "optimizer = torch.optim.SGD(model_fine1.parameters(), lr=LR)\n",
    "scheduler = torch.optim.lr_scheduler.StepLR(optimizer, 1.0, gamma=0.1)\n",
    "save_dir = \"\"\n",
    "file_name = \"model_fine1.pth\"\n",
    "train_model(model=model_fine1, optimizer=optimizer, criterion=criterion, train_dataloader=train_dataloader, valid_dataloader=valid_dataloader,  epochs=2,  save_dir=save_dir ,file_name=file_name )\n",
    "'''"
   ]
  },
  {
   "cell_type": "markdown",
   "id": "da90e107-765e-4ef4-bdab-41feca36246c",
   "metadata": {},
   "source": [
    "The following code shows the progress of full fine-tuning of the entire IMDB training set for 100 epochs.\n"
   ]
  },
  {
   "cell_type": "code",
   "execution_count": 43,
   "id": "47d2929e-6a44-49f1-9986-e4f0421a674f",
   "metadata": {},
   "outputs": [
    {
     "data": {
      "image/png": "[encoded data removed]",
      "text/plain": [
       "<Figure size 640x480 with 2 Axes>"
      ]
     },
     "metadata": {},
     "output_type": "display_data"
    }
   ],
   "source": [
    "acc_urlopened = urlopen('https://cf-courses-data.s3.us.cloud-object-storage.appdomain.cloud/3LEJw8BRgJJFGqlLxaETxA/model-fine1-acc')\n",
    "loss_urlopened = urlopen('https://cf-courses-data.s3.us.cloud-object-storage.appdomain.cloud/-CT1h97vjv0TolY82Nw29g/model-fine1-loss')\n",
    "acc_epoch = pickle.load(acc_urlopened)\n",
    "cum_loss_list = pickle.load(loss_urlopened)\n",
    "plot(cum_loss_list,acc_epoch)"
   ]
  },
  {
   "cell_type": "markdown",
   "id": "be63e6cc-f0d0-458f-a85b-3c880d614083",
   "metadata": {},
   "source": [
    "The following line loads a prefine-tuned model that was trained for 100 epochs on the full IMDB training set and evaluates its performance on the IMDB test set. **For the sake of efficiency, let's not run the evaluation because it can take a few minutes to run. Instead, report the result underneath the cell. If you would like to confirm the result for yourself, feel free to uncomment the last line in the code block.**\n"
   ]
  },
  {
   "cell_type": "code",
   "execution_count": 44,
   "id": "d2f6f804-21e2-41ed-8b11-8f22bad059c3",
   "metadata": {},
   "outputs": [
    {
     "data": {
      "text/plain": [
       "<All keys matched successfully>"
      ]
     },
     "execution_count": 44,
     "metadata": {},
     "output_type": "execute_result"
    }
   ],
   "source": [
    "urlopened = urlopen('https://cf-courses-data.s3.us.cloud-object-storage.appdomain.cloud/e0WOHKh5dnrbC2lGhpsMMw/model-fine1.pth')\n",
    "model_fine1_ = Net(vocab_size=vocab_size, num_class=2).to(device)\n",
    "model_fine1_.load_state_dict(torch.load(io.BytesIO(urlopened.read()), map_location=device))\n",
    "#evaluate(test_dataloader, model_fine1_)"
   ]
  },
  {
   "cell_type": "markdown",
   "id": "fbed04df-0287-4a24-b159-9c31b9d52204",
   "metadata": {},
   "source": [
    "This model demonstrated notable improvement, exhibiting a remarkable achievement with an accuracy of 86% on the test data. This is higher than the 83% achieved by the model trained from scratch on the IMDB dataset. Although the training process was time-intensive (The fine-tuning was as time-intensive as training the model from scratch), the enhanced performance underscores the fine-tuned model's effectiveness and superiority over the model trained from scratch. Much of the computational effort was devoted to updating the transformer layers. To expedite the training process, one viable strategy is to focus on training the final layer only, which can significantly reduce the computational load but might compromise the model's accuracy.\n"
   ]
  },
  {
   "cell_type": "markdown",
   "id": "ab2a2414-21c4-4b43-a214-eedf72d0284b",
   "metadata": {},
   "source": [
    "### Fine-tune the final layer only\n",
    "\n",
    "Fine-tuning the final output layer of a neural network is similar to fine-tuning the whole model. You can begin by loading the pretrained model that you would like to fine-tune. In this case, it is the same model pretrained on the AG News data set.\n"
   ]
  },
  {
   "cell_type": "code",
   "execution_count": 45,
   "id": "2482f5af-a8ae-4f6d-8766-60422ea28a70",
   "metadata": {},
   "outputs": [
    {
     "data": {
      "text/plain": [
       "<All keys matched successfully>"
      ]
     },
     "execution_count": 45,
     "metadata": {},
     "output_type": "execute_result"
    }
   ],
   "source": [
    "urlopened = urlopen('https://cf-courses-data.s3.us.cloud-object-storage.appdomain.cloud/9c3Dh2O_jsYBShBuchUNlg/model-AG%20News%20small1.pth')\n",
    "model_fine2 = Net(vocab_size=vocab_size, num_class=4).to(device)\n",
    "model_fine2.load_state_dict(torch.load(io.BytesIO(urlopened.read()), map_location=device))"
   ]
  },
  {
   "cell_type": "markdown",
   "id": "ea49edeb-8074-452e-b06a-74b347d34e53",
   "metadata": {},
   "source": [
    "Now, the key difference. You iterate through all of the parameters in the `model_fine2` model and set the `requires_grad` attribute of each parameter to `False`. This effectively freezes all of the layers in the model, meaning that their weights are to be updated during training.\n"
   ]
  },
  {
   "cell_type": "code",
   "execution_count": 46,
   "id": "bbd8be6e-0518-4722-9e59-cf0a9d29d2d8",
   "metadata": {},
   "outputs": [],
   "source": [
    "# Freeze all layers in the model\n",
    "for param in model_fine2.parameters():\n",
    "    param.requires_grad = False"
   ]
  },
  {
   "cell_type": "markdown",
   "id": "512105bb-eeb0-42b3-a025-bfca71f65159",
   "metadata": {},
   "source": [
    "Replace the final layer to reflect the fact that you are solving a two-class problem. Note that the new layer will be unfrozen.\n"
   ]
  },
  {
   "cell_type": "code",
   "execution_count": 47,
   "id": "756cba38-ae3c-49b0-8320-99cee116a42e",
   "metadata": {},
   "outputs": [],
   "source": [
    "dim=model_fine2.classifier.in_features"
   ]
  },
  {
   "cell_type": "code",
   "execution_count": 48,
   "id": "a00344ce-173d-4214-b64d-1b5185bbeaa1",
   "metadata": {},
   "outputs": [],
   "source": [
    "model_fine2.classifier = nn.Linear(dim, 2)"
   ]
  },
  {
   "cell_type": "code",
   "execution_count": 49,
   "id": "77b18f78-0daf-4e5e-9ef8-4430936c4fbb",
   "metadata": {},
   "outputs": [
    {
     "data": {
      "text/plain": [
       "Net(\n",
       "  (emb): Embedding(400000, 100)\n",
       "  (pos_encoder): PositionalEncoding(\n",
       "    (dropout): Dropout(p=0.1, inplace=False)\n",
       "  )\n",
       "  (transformer_encoder): TransformerEncoder(\n",
       "    (layers): ModuleList(\n",
       "      (0-1): 2 x TransformerEncoderLayer(\n",
       "        (self_attn): MultiheadAttention(\n",
       "          (out_proj): NonDynamicallyQuantizableLinear(in_features=100, out_features=100, bias=True)\n",
       "        )\n",
       "        (linear1): Linear(in_features=100, out_features=128, bias=True)\n",
       "        (dropout): Dropout(p=0.1, inplace=False)\n",
       "        (linear2): Linear(in_features=128, out_features=100, bias=True)\n",
       "        (norm1): LayerNorm((100,), eps=1e-05, elementwise_affine=True)\n",
       "        (norm2): LayerNorm((100,), eps=1e-05, elementwise_affine=True)\n",
       "        (dropout1): Dropout(p=0.1, inplace=False)\n",
       "        (dropout2): Dropout(p=0.1, inplace=False)\n",
       "      )\n",
       "    )\n",
       "  )\n",
       "  (classifier): Linear(in_features=100, out_features=2, bias=True)\n",
       ")"
      ]
     },
     "execution_count": 49,
     "metadata": {},
     "output_type": "execute_result"
    }
   ],
   "source": [
    "model_fine2.to(device)\n"
   ]
  },
  {
   "cell_type": "markdown",
   "id": "8d9ee719-e4c5-4cc9-8cb5-ab75982003e2",
   "metadata": {},
   "source": [
    "The following block simulates fine-tuning on the shortened training set for just 2 epochs. **For the sake of time efficiency, this code block has been commented out**. The following code should take a shorter amount of time to train than the full fine-tuning conducted previously because only the final layer is unfrozen.\n"
   ]
  },
  {
   "cell_type": "code",
   "execution_count": 50,
   "id": "4afcf857-601d-48d5-baef-961f347ea629",
   "metadata": {},
   "outputs": [
    {
     "data": {
      "text/plain": [
       "'\\nLR=1\\ncriterion = torch.nn.CrossEntropyLoss()\\noptimizer = torch.optim.SGD(model_fine2.parameters(), lr=LR)\\nscheduler = torch.optim.lr_scheduler.StepLR(optimizer, 1.0, gamma=0.1)\\nsave_dir = \"\"\\nfile_name = \"model_fine2.pth\"\\ntrain_model(model=model_fine2, optimizer=optimizer, criterion=criterion, train_dataloader=train_dataloader, valid_dataloader=valid_dataloader,  epochs=2,  save_dir=save_dir ,file_name=file_name )\\n'"
      ]
     },
     "execution_count": 50,
     "metadata": {},
     "output_type": "execute_result"
    }
   ],
   "source": [
    "'''\n",
    "LR=1\n",
    "criterion = torch.nn.CrossEntropyLoss()\n",
    "optimizer = torch.optim.SGD(model_fine2.parameters(), lr=LR)\n",
    "scheduler = torch.optim.lr_scheduler.StepLR(optimizer, 1.0, gamma=0.1)\n",
    "save_dir = \"\"\n",
    "file_name = \"model_fine2.pth\"\n",
    "train_model(model=model_fine2, optimizer=optimizer, criterion=criterion, train_dataloader=train_dataloader, valid_dataloader=valid_dataloader,  epochs=2,  save_dir=save_dir ,file_name=file_name )\n",
    "'''"
   ]
  },
  {
   "cell_type": "markdown",
   "id": "61b38452-5bf5-4bc2-b871-7cf929e30e50",
   "metadata": {},
   "source": [
    "Once again, you will not use the model that you just fine-tuned, but instead inspect the final layer fine-tuning process of a model fine-tuned on the full IMDB training set for 100 epochs.\n"
   ]
  },
  {
   "cell_type": "code",
   "execution_count": 51,
   "id": "dfbe910e-6a16-4e97-9a9f-869f154524de",
   "metadata": {},
   "outputs": [
    {
     "data": {
      "image/png": "[encoded data removed]",
      "text/plain": [
       "<Figure size 640x480 with 2 Axes>"
      ]
     },
     "metadata": {},
     "output_type": "display_data"
    }
   ],
   "source": [
    "acc_urlopened = urlopen('https://cf-courses-data.s3.us.cloud-object-storage.appdomain.cloud/UdR3ApQnxSeV2mrA0CbiLg/model-fine2-acc')\n",
    "loss_urlopened = urlopen('https://cf-courses-data.s3.us.cloud-object-storage.appdomain.cloud/rWGDIF-uL2dEngWcIo9teQ/model-fine2-loss')\n",
    "acc_epoch = pickle.load(acc_urlopened)\n",
    "cum_loss_list = pickle.load(loss_urlopened)\n",
    "plot(cum_loss_list,acc_epoch)"
   ]
  },
  {
   "cell_type": "markdown",
   "id": "61669ab3-7f18-4aee-b7cf-bf57f78b2bd9",
   "metadata": {},
   "source": [
    "The following line loads the pretrained model and evaluates its performance on the test set. **For efficiency, let's not run the evaluation because it can take a few minutes to run. Instead, report the result underneath the cell. If you would like to confirm the result for yourself, feel free to uncomment the last line in the following code block.**\n"
   ]
  },
  {
   "cell_type": "code",
   "execution_count": 52,
   "id": "959af24b-a5e6-4161-aead-6126e0063bd6",
   "metadata": {},
   "outputs": [
    {
     "data": {
      "text/plain": [
       "<All keys matched successfully>"
      ]
     },
     "execution_count": 52,
     "metadata": {},
     "output_type": "execute_result"
    }
   ],
   "source": [
    "urlopened = urlopen('https://cf-courses-data.s3.us.cloud-object-storage.appdomain.cloud/B-1H6lpDg-A0zRwpB6Ek2g/model-fine2.pth')\n",
    "model_fine2_ = Net(vocab_size=vocab_size, num_class=2).to(device)\n",
    "model_fine2_.load_state_dict(torch.load(io.BytesIO(urlopened.read()), map_location=device))\n",
    "#evaluate(test_dataloader, model_fine2_)"
   ]
  },
  {
   "cell_type": "markdown",
   "id": "9a7131a7-5cda-41c6-ae5b-6a5155e0c4bc",
   "metadata": {},
   "source": [
    "The previous code indicates that although fine-tuning the final layer takes a significantly smaller amount of time than fine-tuning the whole model, the performance of the model with just the last layer unfrozen is significantly worse (64% accuracy) than the fine-tuned model with all layers unfrozen (86% accuracy).\n"
   ]
  },
  {
   "cell_type": "markdown",
   "id": "6a57a1ca-1bf8-4802-9425-34cee88047fe",
   "metadata": {},
   "source": [
    "---\n"
   ]
  },
  {
   "cell_type": "markdown",
   "id": "d56c7cd0-352a-47cd-a656-a1ea1286cc49",
   "metadata": {},
   "source": [
    "# Adapters\n",
    "FeatureAdapter is a neural network module that introduces a low-dimensional bottleneck in a transformer architecture to allow fine-tuning with fewer parameters. It compresses the original high-dimensional embeddings into a lower dimension, applies a non-linear transformation, and then expands it back to the original dimension. This process is followed by a residual\n",
    "connection that adds the transformed output back to the original input to preserve information and\n",
    "promote gradient flow.\n",
    "\n",
    "## Benefits of using adapters in neural networks\n",
    "\n",
    "- **Efficient fine-tuning**: Adapters allow for targeted updates to specific parts of the model, reducing the need to retrain large sections of the network.\n",
    "\n",
    "- **Parameter efficiency**: By adding only a few parameters, adapters make it feasible to modify large models without substantial computational overhead.\n",
    "\n",
    "- **Preservation of pretrained features**: Adapters enable the modification of a model while retaining the valuable features learned during extensive pretraining.\n",
    "\n",
    "- **Modularity and flexibility**: They enhance the modularity of models, allowing easy adaptation to various tasks without altering core architecture.\n",
    "\n",
    "- **Task-specific adaptation**: Adapters can be tailored to improve performance on particular tasks, optimizing the model’s effectiveness.\n",
    "\n",
    "- **Transfer learning and domain adaptation**: They facilitate the adaptation of models to new domains, bridging gaps between different data distributions.\n",
    "\n",
    "- **Continual learning**: Adapters support the model's ability to learn new information continuously without forgetting previous knowledge.\n",
    "\n",
    "- **Reduced risk of overfitting**: With fewer trainable parameters, adapters help prevent overfitting, especially on smaller data sets.\n",
    "\n",
    "The following code shows an adapter model.\n"
   ]
  },
  {
   "cell_type": "code",
   "execution_count": 53,
   "id": "41e4b010-6b22-4750-b6bb-a03238b57e85",
   "metadata": {},
   "outputs": [],
   "source": [
    "class FeatureAdapter(nn.Module):\n",
    "    \"\"\"\n",
    "    Attributes:\n",
    "        size (int): The bottleneck dimension to which the embeddings are temporarily reduced.\n",
    "        model_dim (int): The original dimension of the embeddings or features in the transformer model.\n",
    "    \"\"\"\n",
    "    def __init__(self, bottleneck_size=50, model_dim=100):\n",
    "        super().__init__()\n",
    "        self.bottleneck_transform = nn.Sequential(\n",
    "            nn.Linear(model_dim, bottleneck_size),  # Down-project to a smaller dimension\n",
    "            nn.ReLU(),                             # Apply non-linearity\n",
    "            nn.Linear(bottleneck_size, model_dim)  # Up-project back to the original dimension\n",
    "        )\n",
    "\n",
    "    def forward(self, x):\n",
    "        \"\"\"\n",
    "        Forward pass of the FeatureAdapter. Applies the bottleneck transformation to the input\n",
    "        tensor and adds a skip connection.\n",
    "\n",
    "        Args:\n",
    "            x (Tensor): Input tensor with shape (batch_size, seq_length, model_dim).\n",
    "\n",
    "        Returns:\n",
    "            Tensor: Output tensor after applying the adapter transformation and skip connection,\n",
    "                    maintaining the original input shape.\n",
    "        \"\"\"\n",
    "        transformed_features = self.bottleneck_transform(x)  # Transform features through the bottleneck\n",
    "        output_with_residual = transformed_features + x      # Add the residual connection\n",
    "        return output_with_residual"
   ]
  },
  {
   "cell_type": "markdown",
   "id": "53612ef7-bc2f-425d-bdce-f15e78d953e1",
   "metadata": {},
   "source": [
    "The adapted class wraps this adapter functionality around any specified linear layer, enhancing its output with the non-linearity of a ReLU activation function. This setup is particularly useful for experimenting with subtle architectural modifications in deep learning models, facilitating fine-tuning and potentially improving model performance on complex tasks.\n"
   ]
  },
  {
   "cell_type": "code",
   "execution_count": 54,
   "id": "0ff04681-7038-4c22-9ba4-6df2c305a505",
   "metadata": {},
   "outputs": [],
   "source": [
    "class Adapted(nn.Module):\n",
    "    def __init__(self, linear,bottleneck_size=None):\n",
    "        super(Adapted, self).__init__()\n",
    "        self.linear = linear\n",
    "        model_dim = linear.out_features\n",
    "        if bottleneck_size is None:\n",
    "          bottleneck_size = model_dim//2   # Define default bottleneck size as half the model_dim\n",
    "\n",
    "        # Initialize FeatureAdapter with calculated bottleneck_size and model_dim\n",
    "        self.adaptor = FeatureAdapter(bottleneck_size=bottleneck_size, model_dim=model_dim)\n",
    "\n",
    "    def forward(self, x):\n",
    "        # First, the input x is passed through the linear layer\n",
    "        x=self.linear(x)\n",
    "        # Then it's adapted using FeatureAdapter\n",
    "        x= self.adaptor(x)\n",
    "        return x"
   ]
  },
  {
   "cell_type": "markdown",
   "id": "9311ae70-451e-44aa-b96f-a2a68c2173b3",
   "metadata": {},
   "source": [
    "You load the pretrained transformer model that was trained on the AG News dataset.\n"
   ]
  },
  {
   "cell_type": "code",
   "execution_count": 55,
   "id": "95ed6f2f-67af-4830-8805-3229d2fa5759",
   "metadata": {},
   "outputs": [
    {
     "data": {
      "text/plain": [
       "<All keys matched successfully>"
      ]
     },
     "execution_count": 55,
     "metadata": {},
     "output_type": "execute_result"
    }
   ],
   "source": [
    "urlopened = urlopen('https://cf-courses-data.s3.us.cloud-object-storage.appdomain.cloud/9c3Dh2O_jsYBShBuchUNlg/model-AG%20News%20small1.pth')\n",
    "model_adapters = Net(vocab_size=vocab_size, num_class=4).to(device)\n",
    "model_adapters.load_state_dict(torch.load(io.BytesIO(urlopened.read()), map_location=device))"
   ]
  },
  {
   "cell_type": "markdown",
   "id": "a77236f2-34a7-4f67-a648-80e0931dc70a",
   "metadata": {},
   "source": [
    "\n",
    "First, freeze the parameters of a model named model_adapters to prevent them from being updated during training. Then, retrieve the number of input features for the classifier, and replace the classifier with a new linear layer that outputs to two classes.\n"
   ]
  },
  {
   "cell_type": "code",
   "execution_count": 56,
   "id": "9d01d377-1202-453a-9cce-29d09076d79e",
   "metadata": {},
   "outputs": [],
   "source": [
    "for param in model_adapters.parameters():\n",
    "    param.requires_grad = False\n",
    "\n",
    "dim= model_adapters.classifier.in_features\n",
    "model_adapters.classifier = nn.Linear(dim, 2)"
   ]
  },
  {
   "cell_type": "markdown",
   "id": "4bb67a8e-fba6-4d04-90b6-becfcf4b5b5e",
   "metadata": {},
   "source": [
    "Let's explore how to apply the adapted object to a linear layer to obtain the first output. You can obtain the unadapted linear layer for the first output by:\n"
   ]
  },
  {
   "cell_type": "code",
   "execution_count": 57,
   "id": "8c7b4645-7c82-4b86-8c93-03da16300ea1",
   "metadata": {},
   "outputs": [
    {
     "name": "stdout",
     "output_type": "stream",
     "text": [
      "Linear(in_features=100, out_features=128, bias=True)\n"
     ]
    }
   ],
   "source": [
    "my_example_layer=model_adapters.transformer_encoder.layers[0].linear1\n",
    "print(my_example_layer)"
   ]
  },
  {
   "cell_type": "markdown",
   "id": "c05ee362-5958-44e0-9ed8-d540a2bb4c0c",
   "metadata": {},
   "source": [
    "In the following code, you copy the linear layer and add an adapter layer to it.\n"
   ]
  },
  {
   "cell_type": "code",
   "execution_count": 58,
   "id": "9d6c6231-a879-43fb-ac1e-97913b8001eb",
   "metadata": {},
   "outputs": [
    {
     "name": "stdout",
     "output_type": "stream",
     "text": [
      "Adapted(\n",
      "  (linear): Linear(in_features=100, out_features=128, bias=True)\n",
      "  (adaptor): FeatureAdapter(\n",
      "    (bottleneck_transform): Sequential(\n",
      "      (0): Linear(in_features=128, out_features=64, bias=True)\n",
      "      (1): ReLU()\n",
      "      (2): Linear(in_features=64, out_features=128, bias=True)\n",
      "    )\n",
      "  )\n",
      ")\n"
     ]
    }
   ],
   "source": [
    "my_adapeted_layer=Adapted(my_example_layer)\n",
    "print(my_adapeted_layer)"
   ]
  },
  {
   "cell_type": "markdown",
   "id": "cb367481-6dd3-4067-8cec-1a6c52647712",
   "metadata": {},
   "source": [
    "You can print the adapted layer and show that the new layers have their requires_grad attribute set to True, indicating that these layers will be updated during training.\n"
   ]
  },
  {
   "cell_type": "code",
   "execution_count": 59,
   "id": "4463fe8b-4319-48ec-ae38-ee9ab0317466",
   "metadata": {},
   "outputs": [
    {
     "name": "stdout",
     "output_type": "stream",
     "text": [
      "False\n",
      "False\n",
      "True\n",
      "True\n",
      "True\n",
      "True\n"
     ]
    }
   ],
   "source": [
    "for parm in my_adapeted_layer.parameters():\n",
    "    print(parm.requires_grad)"
   ]
  },
  {
   "cell_type": "markdown",
   "id": "64eab7a9-3f02-47ff-80b9-f2ecc3327391",
   "metadata": {},
   "source": [
    "You can set a layer in the model to the adapter layer, as shown in the following code in the commented-out line. However, because there are many layers, a more systematic approach would be to traverse the model and replace specific layers with the adapter layer. Note that you should set the bottleneck size to 24, ensuring that there are fewer parameters to train than during a full fine-tuning.\n"
   ]
  },
  {
   "cell_type": "code",
   "execution_count": 60,
   "id": "94370d40-6059-4c92-aae6-b5f48801268e",
   "metadata": {},
   "outputs": [],
   "source": [
    "# Adapt a specific layer\n",
    "#model_adapters.transformer_encoder.layers[0].linear1=Adapted(my_example_layer)"
   ]
  },
  {
   "cell_type": "code",
   "execution_count": 61,
   "id": "1fb8bca3-98ff-4282-a615-841ccbf3457a",
   "metadata": {},
   "outputs": [],
   "source": [
    "# Find number of layers\n",
    "N_layers=len(model_adapters.transformer_encoder.layers)"
   ]
  },
  {
   "cell_type": "code",
   "execution_count": 62,
   "id": "830196cd-1d72-472d-a95b-b3268367c84c",
   "metadata": {},
   "outputs": [
    {
     "name": "stdout",
     "output_type": "stream",
     "text": [
      " before linear1\n",
      "Linear(in_features=100, out_features=128, bias=True)\n",
      " after  linear1\n",
      "Adapted(\n",
      "  (linear): Linear(in_features=100, out_features=128, bias=True)\n",
      "  (adaptor): FeatureAdapter(\n",
      "    (bottleneck_transform): Sequential(\n",
      "      (0): Linear(in_features=128, out_features=24, bias=True)\n",
      "      (1): ReLU()\n",
      "      (2): Linear(in_features=24, out_features=128, bias=True)\n",
      "    )\n",
      "  )\n",
      ")\n",
      " before linear2\n",
      "Linear(in_features=128, out_features=100, bias=True)\n",
      " after linear2\n",
      "Adapted(\n",
      "  (linear): Linear(in_features=128, out_features=100, bias=True)\n",
      "  (adaptor): FeatureAdapter(\n",
      "    (bottleneck_transform): Sequential(\n",
      "      (0): Linear(in_features=100, out_features=24, bias=True)\n",
      "      (1): ReLU()\n",
      "      (2): Linear(in_features=24, out_features=100, bias=True)\n",
      "    )\n",
      "  )\n",
      ")\n",
      " before linear1\n",
      "Linear(in_features=100, out_features=128, bias=True)\n",
      " after  linear1\n",
      "Adapted(\n",
      "  (linear): Linear(in_features=100, out_features=128, bias=True)\n",
      "  (adaptor): FeatureAdapter(\n",
      "    (bottleneck_transform): Sequential(\n",
      "      (0): Linear(in_features=128, out_features=24, bias=True)\n",
      "      (1): ReLU()\n",
      "      (2): Linear(in_features=24, out_features=128, bias=True)\n",
      "    )\n",
      "  )\n",
      ")\n",
      " before linear2\n",
      "Linear(in_features=128, out_features=100, bias=True)\n",
      " after linear2\n",
      "Adapted(\n",
      "  (linear): Linear(in_features=128, out_features=100, bias=True)\n",
      "  (adaptor): FeatureAdapter(\n",
      "    (bottleneck_transform): Sequential(\n",
      "      (0): Linear(in_features=100, out_features=24, bias=True)\n",
      "      (1): ReLU()\n",
      "      (2): Linear(in_features=24, out_features=100, bias=True)\n",
      "    )\n",
      "  )\n",
      ")\n"
     ]
    }
   ],
   "source": [
    "# Traverse model and adapt\n",
    "for n in range(N_layers):\n",
    "  encoder=model_adapters.transformer_encoder.layers[n]\n",
    "  if encoder.linear1:\n",
    "    print(\" before linear1\")\n",
    "    print(encoder.linear1)\n",
    "    model_adapters.transformer_encoder.layers[n].linear1=Adapted(encoder.linear1, bottleneck_size=24)\n",
    "    print(\" after  linear1\")\n",
    "    print(model_adapters.transformer_encoder.layers[n].linear1)\n",
    "\n",
    "  if encoder.linear2:\n",
    "    print(\" before linear2\")\n",
    "    print(model_adapters.transformer_encoder.layers[n].linear2)\n",
    "    model_adapters.transformer_encoder.layers[n].linear2=Adapted(encoder.linear2, bottleneck_size=24)\n",
    "    print(\" after linear2\")\n",
    "    print(model_adapters.transformer_encoder.layers[n].linear2)"
   ]
  },
  {
   "cell_type": "markdown",
   "id": "cfbd9a03-4dc7-4718-bdaa-ff817b567ca2",
   "metadata": {},
   "source": [
    "The following code sends the model to the device.\n"
   ]
  },
  {
   "cell_type": "code",
   "execution_count": 63,
   "id": "d0ac5d3b-2929-4c59-9512-197daf24970b",
   "metadata": {},
   "outputs": [
    {
     "data": {
      "text/plain": [
       "Net(\n",
       "  (emb): Embedding(400000, 100)\n",
       "  (pos_encoder): PositionalEncoding(\n",
       "    (dropout): Dropout(p=0.1, inplace=False)\n",
       "  )\n",
       "  (transformer_encoder): TransformerEncoder(\n",
       "    (layers): ModuleList(\n",
       "      (0-1): 2 x TransformerEncoderLayer(\n",
       "        (self_attn): MultiheadAttention(\n",
       "          (out_proj): NonDynamicallyQuantizableLinear(in_features=100, out_features=100, bias=True)\n",
       "        )\n",
       "        (linear1): Adapted(\n",
       "          (linear): Linear(in_features=100, out_features=128, bias=True)\n",
       "          (adaptor): FeatureAdapter(\n",
       "            (bottleneck_transform): Sequential(\n",
       "              (0): Linear(in_features=128, out_features=24, bias=True)\n",
       "              (1): ReLU()\n",
       "              (2): Linear(in_features=24, out_features=128, bias=True)\n",
       "            )\n",
       "          )\n",
       "        )\n",
       "        (dropout): Dropout(p=0.1, inplace=False)\n",
       "        (linear2): Adapted(\n",
       "          (linear): Linear(in_features=128, out_features=100, bias=True)\n",
       "          (adaptor): FeatureAdapter(\n",
       "            (bottleneck_transform): Sequential(\n",
       "              (0): Linear(in_features=100, out_features=24, bias=True)\n",
       "              (1): ReLU()\n",
       "              (2): Linear(in_features=24, out_features=100, bias=True)\n",
       "            )\n",
       "          )\n",
       "        )\n",
       "        (norm1): LayerNorm((100,), eps=1e-05, elementwise_affine=True)\n",
       "        (norm2): LayerNorm((100,), eps=1e-05, elementwise_affine=True)\n",
       "        (dropout1): Dropout(p=0.1, inplace=False)\n",
       "        (dropout2): Dropout(p=0.1, inplace=False)\n",
       "      )\n",
       "    )\n",
       "  )\n",
       "  (classifier): Linear(in_features=100, out_features=2, bias=True)\n",
       ")"
      ]
     },
     "execution_count": 63,
     "metadata": {},
     "output_type": "execute_result"
    }
   ],
   "source": [
    "# Send model to device\n",
    "model_adapters.to(device)"
   ]
  },
  {
   "cell_type": "markdown",
   "id": "606fb8cc-1e16-407e-adb2-66d2004b17cf",
   "metadata": {},
   "source": [
    "Finally, the following code simulates training of the adapted model by training on a shortend IMDB train set for 2 epochs.\n"
   ]
  },
  {
   "cell_type": "code",
   "execution_count": 64,
   "id": "01298b95-fa65-482f-9668-980730d921b5",
   "metadata": {},
   "outputs": [
    {
     "name": "stderr",
     "output_type": "stream",
     "text": [
      "  0%|          | 0/2 [00:00<?, ?it/s]"
     ]
    },
    {
     "name": "stdout",
     "output_type": "stream",
     "text": [
      "Epoch 1/2 - Loss: 27.888702929019928\n"
     ]
    },
    {
     "name": "stderr",
     "output_type": "stream",
     "text": [
      " 50%|█████     | 1/2 [00:15<00:15, 15.71s/it]"
     ]
    },
    {
     "name": "stdout",
     "output_type": "stream",
     "text": [
      "0.4872\n",
      "Epoch 2/2 - Loss: 27.898370802402496\n"
     ]
    },
    {
     "name": "stderr",
     "output_type": "stream",
     "text": [
      "100%|██████████| 2/2 [00:31<00:00, 15.70s/it]"
     ]
    },
    {
     "name": "stdout",
     "output_type": "stream",
     "text": [
      "0.524\n",
      "Training time: 31.410266160964966\n"
     ]
    },
    {
     "name": "stderr",
     "output_type": "stream",
     "text": [
      "\n"
     ]
    }
   ],
   "source": [
    "LR=1\n",
    "criterion = torch.nn.CrossEntropyLoss()\n",
    "optimizer = torch.optim.SGD(model_adapters.parameters(), lr=LR)\n",
    "scheduler = torch.optim.lr_scheduler.StepLR(optimizer, 1.0, gamma=0.1)\n",
    "save_dir = \"\"\n",
    "file_name = \"model_adapters.pth\"\n",
    "train_model(model=model_adapters, optimizer=optimizer, criterion=criterion, train_dataloader=train_dataloader, valid_dataloader=valid_dataloader,  epochs=2,  save_dir=save_dir ,file_name=file_name )"
   ]
  },
  {
   "cell_type": "markdown",
   "id": "881f1eed-5547-43d8-8b67-40a714643d61",
   "metadata": {},
   "source": [
    "Naturally, you will not use the model you just trained. Instead, you will track the training of an adapted model fine-tuned on the full IMDB dataset for 100 epochs.\n"
   ]
  },
  {
   "cell_type": "code",
   "execution_count": 65,
   "id": "443bb4b9-d075-45f7-96b8-c116d99b29e8",
   "metadata": {},
   "outputs": [
    {
     "data": {
      "image/png": "[encoded data removed]",
      "text/plain": [
       "<Figure size 640x480 with 2 Axes>"
      ]
     },
     "metadata": {},
     "output_type": "display_data"
    }
   ],
   "source": [
    "acc_urlopened = urlopen('https://cf-courses-data.s3.us.cloud-object-storage.appdomain.cloud/D49zrrMPWO_ktwQo7PSHIQ/model-adapters-acc')\n",
    "loss_urlopened = urlopen('https://cf-courses-data.s3.us.cloud-object-storage.appdomain.cloud/RXWlmyaco695RiaoU7QsnA/model-adapters-loss')\n",
    "acc_epoch = pickle.load(acc_urlopened)\n",
    "cum_loss_list = pickle.load(loss_urlopened)\n",
    "plot(cum_loss_list,acc_epoch)"
   ]
  },
  {
   "cell_type": "markdown",
   "id": "f82d3eee-d8b3-40c0-851a-e386478759e1",
   "metadata": {},
   "source": [
    "The following code loads the adapted model fine-tuned for 100 epochs on the full IMDB train set and evaluates its performance on the IMDB test set.\n"
   ]
  },
  {
   "cell_type": "code",
   "execution_count": 66,
   "id": "a84bc82a-5233-41f2-a806-9076cd2b1064",
   "metadata": {},
   "outputs": [
    {
     "name": "stdout",
     "output_type": "stream",
     "text": [
      " before linear1\n",
      "Linear(in_features=100, out_features=128, bias=True)\n",
      " after  linear1\n",
      "Adapted(\n",
      "  (linear): Linear(in_features=100, out_features=128, bias=True)\n",
      "  (adaptor): FeatureAdapter(\n",
      "    (bottleneck_transform): Sequential(\n",
      "      (0): Linear(in_features=128, out_features=24, bias=True)\n",
      "      (1): ReLU()\n",
      "      (2): Linear(in_features=24, out_features=128, bias=True)\n",
      "    )\n",
      "  )\n",
      ")\n",
      " before linear2\n",
      "Linear(in_features=128, out_features=100, bias=True)\n",
      " after linear2\n",
      "Adapted(\n",
      "  (linear): Linear(in_features=128, out_features=100, bias=True)\n",
      "  (adaptor): FeatureAdapter(\n",
      "    (bottleneck_transform): Sequential(\n",
      "      (0): Linear(in_features=100, out_features=24, bias=True)\n",
      "      (1): ReLU()\n",
      "      (2): Linear(in_features=24, out_features=100, bias=True)\n",
      "    )\n",
      "  )\n",
      ")\n",
      " before linear1\n",
      "Linear(in_features=100, out_features=128, bias=True)\n",
      " after  linear1\n",
      "Adapted(\n",
      "  (linear): Linear(in_features=100, out_features=128, bias=True)\n",
      "  (adaptor): FeatureAdapter(\n",
      "    (bottleneck_transform): Sequential(\n",
      "      (0): Linear(in_features=128, out_features=24, bias=True)\n",
      "      (1): ReLU()\n",
      "      (2): Linear(in_features=24, out_features=128, bias=True)\n",
      "    )\n",
      "  )\n",
      ")\n",
      " before linear2\n",
      "Linear(in_features=128, out_features=100, bias=True)\n",
      " after linear2\n",
      "Adapted(\n",
      "  (linear): Linear(in_features=128, out_features=100, bias=True)\n",
      "  (adaptor): FeatureAdapter(\n",
      "    (bottleneck_transform): Sequential(\n",
      "      (0): Linear(in_features=100, out_features=24, bias=True)\n",
      "      (1): ReLU()\n",
      "      (2): Linear(in_features=24, out_features=100, bias=True)\n",
      "    )\n",
      "  )\n",
      ")\n"
     ]
    },
    {
     "name": "stderr",
     "output_type": "stream",
     "text": [
      "100%|██████████| 782/782 [01:19<00:00,  9.89it/s]\n"
     ]
    },
    {
     "data": {
      "text/plain": [
       "0.85684"
      ]
     },
     "execution_count": 66,
     "metadata": {},
     "output_type": "execute_result"
    }
   ],
   "source": [
    "model_adapters_ = Net(vocab_size=vocab_size, num_class=2).to(device)\n",
    "for n in range(N_layers):\n",
    "  encoder=model_adapters_.transformer_encoder.layers[n]\n",
    "  if encoder.linear1:\n",
    "    print(\" before linear1\")\n",
    "    print(encoder.linear1)\n",
    "    model_adapters_.transformer_encoder.layers[n].linear1=Adapted(encoder.linear1, bottleneck_size=24)\n",
    "    print(\" after  linear1\")\n",
    "    print(model_adapters_.transformer_encoder.layers[n].linear1)\n",
    "\n",
    "  if encoder.linear2:\n",
    "    print(\" before linear2\")\n",
    "    print(model_adapters_.transformer_encoder.layers[n].linear2)\n",
    "    model_adapters_.transformer_encoder.layers[n].linear2=Adapted(encoder.linear2, bottleneck_size=24)\n",
    "    print(\" after linear2\")\n",
    "    print(model_adapters_.transformer_encoder.layers[n].linear2)\n",
    "\n",
    "model_adapters_.to(device)\n",
    "for param in model_adapters_.parameters():\n",
    "    param.requires_grad = False\n",
    "\n",
    "urlopened = urlopen('https://cf-courses-data.s3.us.cloud-object-storage.appdomain.cloud/PGhd5G_NVrWNH-_jdjwNlw/model-adapters.pth')\n",
    "model_adapters_.load_state_dict(torch.load(io.BytesIO(urlopened.read()), map_location=device))\n",
    "evaluate(test_dataloader, model_adapters_)"
   ]
  },
  {
   "cell_type": "markdown",
   "id": "30166565-d838-41e0-8798-f83b3fc6a66d",
   "metadata": {},
   "source": [
    "As you can see, the performance of the fine-tuned adapted model is nearly identical to the fully fine-tuned model, with both models achieving a roughly 86% accuracy. This is an especially surprising result because a significantly smaller number of weights were updated for the adapted model than the fully fine-tuned model. Note that only the adapter layers with a bottleneck size of 24 and the final classifier layer are unfrozen.\n"
   ]
  },
  {
   "cell_type": "markdown",
   "id": "d0f31a43-220b-4f3d-999e-2fe7ca2dc105",
   "metadata": {},
   "source": [
    "The above shows that adapters can be used for parameter efficient fine-tuning (PEFT) and that the performance of a model fine-tuned using adapters can be almost as good as a fully fine-tuned model with all of the layers unfrozen!\n"
   ]
  },
  {
   "cell_type": "markdown",
   "id": "25889c7e-4c9d-44bc-8aff-3f215390a7f2",
   "metadata": {},
   "source": [
    "---\n"
   ]
  },
  {
   "cell_type": "markdown",
   "id": "a69d69c8-31a4-480b-9045-cc05cecf07ae",
   "metadata": {},
   "source": [
    "## Exercise: Adapt linear layers in a different network\n",
    "\n",
    "The following code defines a neural network called `NeuralNetwork`.\n"
   ]
  },
  {
   "cell_type": "code",
   "execution_count": 67,
   "id": "916aa46d-9b26-4dbb-b8d1-69c4232c2f62",
   "metadata": {},
   "outputs": [
    {
     "name": "stdout",
     "output_type": "stream",
     "text": [
      "NeuralNetwork(\n",
      "  (flatten): Flatten(start_dim=1, end_dim=-1)\n",
      "  (linear_relu_stack): Sequential(\n",
      "    (0): Linear(in_features=784, out_features=512, bias=True)\n",
      "    (1): ReLU()\n",
      "    (2): Linear(in_features=512, out_features=512, bias=True)\n",
      "    (3): ReLU()\n",
      "    (4): Linear(in_features=512, out_features=10, bias=True)\n",
      "  )\n",
      ")\n"
     ]
    }
   ],
   "source": [
    "class NeuralNetwork(nn.Module):\n",
    "    def __init__(self):\n",
    "        super().__init__()\n",
    "        self.flatten = nn.Flatten()\n",
    "        self.linear_relu_stack = nn.Sequential(\n",
    "            nn.Linear(28*28, 512),\n",
    "            nn.ReLU(),\n",
    "            nn.Linear(512, 512),\n",
    "            nn.ReLU(),\n",
    "            nn.Linear(512, 10),\n",
    "        )\n",
    "\n",
    "    def forward(self, x):\n",
    "        x = self.flatten(x)\n",
    "        logits = self.linear_relu_stack(x)\n",
    "        return logits\n",
    "\n",
    "exercise_model = NeuralNetwork()\n",
    "\n",
    "exercise_model.to(device)\n",
    "for param in exercise_model.parameters():\n",
    "    param.requires_grad = False\n",
    "\n",
    "print(exercise_model)"
   ]
  },
  {
   "cell_type": "markdown",
   "id": "04c79901-962e-4584-a8bd-b755e9abb538",
   "metadata": {},
   "source": [
    "`NeuralNetwork` is a neural network that uses the `Sequential` container from PyTorch. Adapt the first two linear layers in the `Sequential` container by using the bottleneck adapter with a bottleneck size of 30. Also, change the last linear layer to a layer that has 5 outputs.\n"
   ]
  },
  {
   "cell_type": "code",
   "execution_count": 68,
   "id": "a2714da6-6c35-4d10-b55c-092d29402895",
   "metadata": {},
   "outputs": [],
   "source": [
    "### REPLACE THIS YOUR ANSWER ###\n"
   ]
  },
  {
   "cell_type": "markdown",
   "id": "95068804-bc56-4c30-85d0-377eba4d79e8",
   "metadata": {},
   "source": [
    "<details>\n",
    "    <summary>Click here for the solution</summary>\n",
    "\n",
    "```python\n",
    "exercise_model.linear_relu_stack[0] = Adapted(exercise_model.linear_relu_stack[0], bottleneck_size=30)\n",
    "exercise_model.linear_relu_stack[2] = Adapted(exercise_model.linear_relu_stack[2], bottleneck_size=30)\n",
    "exercise_model.linear_relu_stack[4] = nn.Linear(512, 5)\n",
    "print(exercise_model)\n",
    "```\n",
    "\n",
    "</details>\n"
   ]
  },
  {
   "cell_type": "markdown",
   "id": "5e94f196-253b-4198-a2ce-32096f60c865",
   "metadata": {},
   "source": [
    "---\n"
   ]
  },
  {
   "cell_type": "markdown",
   "id": "3e04e676-085a-4afc-8e64-23e38f2de52d",
   "metadata": {},
   "source": [
    "## Congratulations! You have completed the lab\n"
   ]
  },
  {
   "cell_type": "markdown",
   "id": "6341328a-1b54-4f83-8b25-8f0bf82cba26",
   "metadata": {},
   "source": [
    "## Authors\n"
   ]
  },
  {
   "cell_type": "markdown",
   "id": "2a27ca74-6a43-4f02-a616-9333446785a7",
   "metadata": {},
   "source": [
    "[Joseph Santarcangelo](https://author.skills.network/instructors/joseph_santarcangelo)\n",
    "\n",
    "Joseph has a Ph.D. in Electrical Engineering, his research focused on using machine learning, signal processing, and computer vision to determine how videos impact human cognition. Joseph has been working for IBM since he completed his PhD.\n"
   ]
  },
  {
   "cell_type": "markdown",
   "id": "41d77123-caff-4f6b-9e70-d9eadfbf7e8b",
   "metadata": {},
   "source": [
    "[Wojciech \"Victor\" Fulmyk](https://www.linkedin.com/in/wfulmyk) \n",
    "\n",
    "Wojciech \"Victor\" Fulmyk is a Data Scientist at IBM, and a PhD Candidate in economics at the University of Calgary.\n"
   ]
  },
  {
   "cell_type": "markdown",
   "id": "a9ab212f-d6ee-465d-94b9-6f5748b574c1",
   "metadata": {},
   "source": [
    "[Ashutosh Sagar](https://www.linkedin.com/in/ashutoshsagar/) is completing his MS in CS from Dalhousie University. He has previous experience working with Natural Language Processing and as a Data Scientist.\n"
   ]
  },
  {
   "cell_type": "markdown",
   "id": "67a2a939-8595-46d0-a134-62366a8cb5a9",
   "metadata": {},
   "source": [
    "## References\n",
    "\n",
    "\n",
    "[TEXT CLASSIFICATION WITH THE TORCHTEXT LIBRARY](https://pytorch.org/tutorials/beginner/text_sentiment_ngrams_tutorial.html)\n",
    "\n",
    "[Parameter-Efficient Transfer Learning for NLP](https://arxiv.org/pdf/1902.00751.pdf)\n",
    "\n",
    "[Simple, Scalable Adaptation for Neural Machine Translation](https://arxiv.org/pdf/1909.08478)\n"
   ]
  },
  {
   "cell_type": "markdown",
   "id": "449e692c-5955-4325-9fcf-36d099d92567",
   "metadata": {},
   "source": [
    "© Copyright IBM Corporation. All rights reserved.\n"
   ]
  }
 ],
 "metadata": {
  "kernelspec": {
   "display_name": "ibm-ai-venv",
   "language": "python",
   "name": "python3"
  },
  "language_info": {
   "codemirror_mode": {
    "name": "ipython",
    "version": 3
   },
   "file_extension": ".py",
   "mimetype": "text/x-python",
   "name": "python",
   "nbconvert_exporter": "python",
   "pygments_lexer": "ipython3",
   "version": "3.11.12"
  },
  "prev_pub_hash": "c162a59638401c0f513c86456ec5a6fd9bbdc7884475942ded646736497d613e"
 },
 "nbformat": 4,
 "nbformat_minor": 4
}
